{
 "cells": [
  {
   "cell_type": "markdown",
   "metadata": {},
   "source": [
    "# Lab 4: Recurrent Neural Networks"
   ]
  },
  {
   "cell_type": "markdown",
   "metadata": {},
   "source": [
    "Veľmi často potrebujete natrénovať model na údaje, ktoré reprezentujú časovú postupnosť, t.j. hodnota prvku závisí od hodnoty predošlých prvkov. Na takéto údaje sú najvhodnejšie rekurentné neurónové siete (recurrent neural network). Na dnešnom cvičení použijete rekurentnú neurónku na generovanie textu.\n",
    "\n",
    "Pred tým sa ale oboznámite s [problematikou časových postupností](http://introtodeeplearning.com/materials/2019_6S191_L2.pdf)\n",
    "\n",
    "Kostru dnešného riešenia nájdete [tu](https://github.com/ianmagyar/dl-course/blob/master/labs/sources/lab4.py). Stiahnite si aj [dataset s textmi piesní kapely Queen](https://github.com/ianmagyar/dl-course/blob/master/labs/sources/dataset_queen.txt)."
   ]
  },
  {
   "cell_type": "markdown",
   "metadata": {},
   "source": [
    "## 1. Načítanie datasetu\n",
    "\n",
    "V prvom kroku načítame dataset ako postupnosť znakov. Na to použijeme funkciu open z jazyka Python. Následne potrebujete priradiť hodnotu nasledujúcim premenným:\n",
    "\n",
    "* chars - zoznam jedinečných znakov v datasete\n",
    "* VOCAB_SIZE - počet jedinečných znakov v datasete\n",
    "* ix_to_char - slovník, ktorý prepíše index znaku na znak\n",
    "* char_to_ix - slovník, ktorý nahradí znak jeho indexom"
   ]
  },
  {
   "cell_type": "code",
   "execution_count": null,
   "metadata": {
    "collapsed": true
   },
   "outputs": [],
   "source": [
    "data = open('dataset_queen.txt', 'r').read()\n",
    "# TODO: get a list of all unique characters\n",
    "chars = \n",
    "# TODO: get the number of unique letters\n",
    "VOCAB_SIZE = \n",
    "\n",
    "# TODO: create dictionaries that map index to letters and vice versa\n",
    "ix_to_char = \n",
    "char_to_ix = \n"
   ]
  },
  {
   "cell_type": "markdown",
   "metadata": {},
   "source": [
    "## 2. Príprava vstupných a výstupných hodnôt\n",
    "\n",
    "Keďže našim cieľom je generovať úplne nové texty, nepoužijeme trénovaciu množinu a testovaciu množinu, ale hodnoty aj tak potrebujeme predspracovať, keďže texty sú zatiaľ reprezentované ako znaky resp. indexy, ale naša neurónka bude očakávať na vstupe aj na výstupe vektory. Je to potrebné kvôli tomu aby sme problém reprezentovali ako klasifikáciu namiesto regresie.\n",
    "\n",
    "Vstupom pre neurónovú sieť bude postupnosť znakov a výstupom bude postupnosť znakov posunutá o jednu pozíciu. Ak teda chceme natrénovať neurónku pomocou reťazca \"hello\", tak vstupom bude \"hell\" a výstup bude \"ello\".\n",
    "\n",
    "Najprv teda potrebujeme zadefinovať dĺžku jedného reťazca a následne aj počet reťazcov v datasete."
   ]
  },
  {
   "cell_type": "code",
   "execution_count": null,
   "metadata": {
    "collapsed": true
   },
   "outputs": [],
   "source": [
    "# TODO: define the length of one sequence and calculate the number of sequences\n",
    "SEQ_LENGTH = \n",
    "SEQ_NUMBER = "
   ]
  },
  {
   "cell_type": "markdown",
   "metadata": {},
   "source": [
    "Ďalšou úlohou je pripraviť vstupy a výstupy tak, aby sme vedeli začať trénovať model. Každý vstup bude reprezentovaný ako pole `SEQ_LENGTH - 1` vektorov. V kóde máte príklad na prípravu vstupu, na základe čoho viete napísať podobný kód na prípravu výstupu. Nezabudnite že výstup má byť reťazec posunutý o jeden znak."
   ]
  },
  {
   "cell_type": "code",
   "execution_count": null,
   "metadata": {
    "collapsed": true
   },
   "outputs": [],
   "source": [
    "# create vector representation of input and output\n",
    "X = np.zeros((SEQ_NUMBER, SEQ_LENGTH, VOCAB_SIZE))\n",
    "y = np.zeros((SEQ_NUMBER, SEQ_LENGTH, VOCAB_SIZE))\n",
    "for i in range(0, SEQ_NUMBER):\n",
    "    X_sequence = data[i * SEQ_LENGTH:(i + 1) * SEQ_LENGTH]\n",
    "    X_sequence_ix = [char_to_ix[value] for value in X_sequence]\n",
    "    input_sequence = np.zeros((SEQ_LENGTH, VOCAB_SIZE))\n",
    "    for j in range(SEQ_LENGTH):\n",
    "        input_sequence[j][X_sequence_ix[j]] = 1.\n",
    "    X[i] = input_sequence\n",
    "\n",
    "    # TODO: prepare output vectors\n",
    "    "
   ]
  },
  {
   "cell_type": "markdown",
   "metadata": {},
   "source": [
    "## 3. Definícia modelu\n",
    "\n",
    "V skripte máte zadefinovaný už rekurentný model. Analyzujte model a zistite úlohu jednotlivých vrstiev."
   ]
  },
  {
   "cell_type": "code",
   "execution_count": null,
   "metadata": {
    "collapsed": true
   },
   "outputs": [],
   "source": [
    "# define number of neurons in hidden layers\n",
    "HIDDEN_DIM = 128\n",
    "\n",
    "# define model\n",
    "model = Sequential()\n",
    "model.add(LSTM(HIDDEN_DIM, input_shape=(None, VOCAB_SIZE), return_sequences=True))\n",
    "model.add(LSTM(HIDDEN_DIM, return_sequences=True))\n",
    "model.add(LSTM(HIDDEN_DIM, return_sequences=True))\n",
    "model.add(TimeDistributed(Dense(VOCAB_SIZE)))\n",
    "model.add(Activation('softmax'))\n",
    "model.compile(loss=\"categorical_crossentropy\", optimizer=\"rmsprop\")\n"
   ]
  },
  {
   "cell_type": "markdown",
   "metadata": {},
   "source": [
    "## 4. Trénovanie a testovanie modelu\n",
    "\n",
    "Teraz môžeme začať už testovať náš model. Pre porovnanie vygenerujeme postupnosť 100 znakov ešte pred trénovaním modelu. Na to použijeme funkciu `generate_text`."
   ]
  },
  {
   "cell_type": "code",
   "execution_count": null,
   "metadata": {
    "collapsed": true
   },
   "outputs": [],
   "source": [
    "def generate_text(model, length):\n",
    "    ix = [np.random.randint(VOCAB_SIZE)]\n",
    "    y_char = [ix_to_char[ix[-1]]]\n",
    "    X = np.zeros((1, length, VOCAB_SIZE))\n",
    "    for i in range(length):\n",
    "        X[0, i, :][ix[-1]] = 1\n",
    "        print(ix_to_char[ix[-1]], end=\"\")\n",
    "        ix = np.argmax(model.predict(X[:, :i + 1, :])[0], 1)\n",
    "        y_char.append(ix_to_char[ix[-1]])\n",
    "    return ('').join(y_char)"
   ]
  },
  {
   "cell_type": "code",
   "execution_count": null,
   "metadata": {
    "collapsed": true
   },
   "outputs": [],
   "source": [
    "GENERATE_LENGTH = 100\n",
    "# random generation\n",
    "generate_text(model, GENERATE_LENGTH)"
   ]
  },
  {
   "cell_type": "markdown",
   "metadata": {},
   "source": [
    "Pre ukážku trénovanie uskutočníme v nekončenom cyklu (ak kód spúštate cez Jupyter, opravte to na `for` cyklus). Po každom kole trénovanie vygenerujeme nový reťazec a vypíšeme ho pomocou funkcie `generate_text`."
   ]
  },
  {
   "cell_type": "code",
   "execution_count": null,
   "metadata": {
    "collapsed": true
   },
   "outputs": [],
   "source": [
    "# train and test model\n",
    "epoch_no = 0\n",
    "while True:\n",
    "    print('\\n')\n",
    "    model.fit(X, y, batch_size=48, verbose=2, epochs=1)\n",
    "    epoch_no += 1\n",
    "    generate_text(model, GENERATE_LENGTH)"
   ]
  },
  {
   "cell_type": "markdown",
   "metadata": {},
   "source": [
    "Ako vidíte, síce nedostaneme zrozumiteľný text na začiatku, ale hneď je jasné, že model sa učí úspešne a snaží sa napodobňovať texty z datasetu. Ak ste zvedaví, aký výkon majú rekurentné neurónky po dlhšom trénovaní, prečítajte si [Harryho Pottera od umelej inteligencie](https://medium.com/deep-writing/harry-potter-written-by-artificial-intelligence-8a9431803da6)."
   ]
  },
  {
   "cell_type": "markdown",
   "metadata": {},
   "source": [
    "Pomocou rekurentných sietí je možné generovať aj hudbu, ako to robí aj [AIVA](https://www.aiva.ai). Pre ukážku si pozrite video z [TED](https://www.youtube.com/watch?v=wYb3Wimn01s)."
   ]
  }
 ],
 "metadata": {
  "kernelspec": {
   "display_name": "Python 3",
   "language": "python",
   "name": "python3"
  },
  "language_info": {
   "codemirror_mode": {
    "name": "ipython",
    "version": 3
   },
   "file_extension": ".py",
   "mimetype": "text/x-python",
   "name": "python",
   "nbconvert_exporter": "python",
   "pygments_lexer": "ipython3",
   "version": "3.6.5"
  }
 },
 "nbformat": 4,
 "nbformat_minor": 2
}
