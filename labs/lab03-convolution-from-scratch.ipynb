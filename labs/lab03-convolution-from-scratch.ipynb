{
 "cells": [
  {
   "cell_type": "markdown",
   "metadata": {},
   "source": [
    "# Implementácia konvolúcie a poolingu\n",
    "\n",
    "Na tomto cvičení implementujeme základné operácie konvolučných neurónových sietí, a to konvolúciu a *pooling*. Programovať budeme v programovacom jazyku Python, ktorý by ste už mali poznať z predošlých predmetov. Pri implementácii použijeme knižnicu `numpy`, ktorá sa používa veľmi často v projektoch s hlbokým učením, a na ňu sú stavané ďalšie knižnice ako `tensorflow` a `pytorch`.\n",
    "\n",
    "Ak nemáte nainštalovaný Python, najnovšiu verziu si môžete stiahnuť [tu](https://www.python.org/downloads/), odporúčame ale postupovať podľa [kroku 1. tohto manuálu](https://github.com/ianmagyar/dl-course/blob/master/labs/00%20-%20Setting-up-tensorflow.md)"
   ]
  },
  {
   "cell_type": "markdown",
   "metadata": {},
   "source": [
    "## 1. Štruktúra riešenia\n",
    "\n",
    "Kostru dnešného riešenia nájdete [tu](resources/lab03/lab03.py) alebo môžete si stiahnuť tento jupyter notebook a pracovať priamo v ňom.\n",
    "\n",
    "Na začiatku si importujeme knižnicu `numpy` a definujeme niekoľko ukážkových príkladov pre obrázky a filtre (príklady z [minulého cvičenia](lab02-ANNs-and-convolution.ipynb)):"
   ]
  },
  {
   "cell_type": "code",
   "execution_count": 1,
   "metadata": {},
   "outputs": [],
   "source": [
    "import numpy as np\n",
    "\n",
    "\n",
    "image1 = np.array([\n",
    "    [3, 2, 1, 2, 0],\n",
    "    [0, 4, 2, 0, 1],\n",
    "    [0, 2, 3, 1, 1],\n",
    "    [1, 3, 4, 0, 0],\n",
    "    [2, 1, 2, 1, 0]\n",
    "])\n",
    "\n",
    "filter1 = np.array([\n",
    "    [0, 1, 2],\n",
    "    [2, 2, 0],\n",
    "    [0, 1, 2]\n",
    "])\n",
    "\n",
    "image2 = np.array([\n",
    "    [1, 1, 1, 1, 1, 1],\n",
    "    [1, 1, 1, 1, 1, 1],\n",
    "    [1, 1, 1, 1, 1, 1],\n",
    "    [0, 0, 0, 0, 0, 0],\n",
    "    [0, 0, 0, 0, 0, 0],\n",
    "    [0, 0, 0, 0, 0, 0]\n",
    "])\n",
    "\n",
    "filter2 = np.array([\n",
    "    [1, 2, 1],\n",
    "    [0, 0, 0],\n",
    "    [-1, -2, -1]\n",
    "])"
   ]
  },
  {
   "cell_type": "markdown",
   "metadata": {},
   "source": [
    "V skripte je deklarovaných šesť funkcií, ktoré budeme implementovať v nasledujúcich krokoch - tri pomocné funkcie a tri ktoré obsahujú implementáciu konvolúcie, max poolingu a average poolingu. Ich podrobný popis nájdete v komentároch, úlohu týchto funkcií ale vieme zhrnúť nasledovne:\n",
    "\n",
    "- `get_result_array` - vytvorí prázdne n-rozmerné pole s hodnotami inicializovanými na 0. Jej úlohou je vypočítať rozmery výslednej mapy po aplikácii konvolúcie resp. *pooling*u.\n",
    "- `get_padding_value` - vypočíta potrebný padding na základe parametrov konvolúcie/*pooling*u.\n",
    "- `get_padded_image` - pridá do originálneho vstupného obrázka *padding* podľa *padding* hodnoty.\n",
    "- `convolute` - vykoná konvolúciu so zadanými parametrami.\n",
    "- `maxPool` - vykoná *max pooling* so zadanými parametrami.\n",
    "- `avgPool` - vykoná *average pooling* so zadanými parametrami."
   ]
  },
  {
   "cell_type": "markdown",
   "metadata": {},
   "source": [
    "## 2. `get_result_array`\n",
    "\n",
    "Pred tým, než sa spustíme do implementácie operácií konvolúcia a *pooling* musíme pochopiť funkciu parametrov *stride* a *padding*.\n",
    "\n",
    "*Stride* vyjadruje to, o koľko posunieme konvolučný alebo *pooling* filter po jednom kroku výpočtov. Najčastejšie nadobúda hodnotu 1, najmä pri použití *padding*u. Na dnešnom cvičení budeme predpokladať, že jeho hodnota je 1, neskôr svoje riešenie môžete rozšíriť tak, aby podporovalo aj iné hodnoty *stride*.\n",
    "\n",
    "*Padding* je úprava vstupného obrazu pred aplikáciou konvolúcie alebo *pooling*u. Síce má niekoľko variantov, najčastejšie sa ale používa *zero padding*, teda pridávanie nulových hodnôt na okraje obrázka vo všetkých smeroch. Z možných spôsobov použitia *padding*u dnes implementujeme dva, a to *no padding* (teda na obrázok vôbec nepoužijeme *padding*) a *same padding*, čo znamená, že v každom smere pridáme rovnaký počet núl tak, aby výsledok operácie mal rovnaké rozmery ako vstupný obrázok.\n",
    "\n",
    "Ak platia vyššie uvedené predpoklady, rozmery výstupnej príznakovej mapy vieme vypočítať podľa vzorca:\n",
    "\n",
    "\\begin{equation*}\n",
    "m_{d} = \\frac{I_{d} \\cdot k_{d} + 2 \\cdot P}{S} + 1,\n",
    "\\end{equation*}\n",
    "\n",
    "kde $m$ je mapa, $I$ je obrázok, $k$ je filter (alebo *kernel*), $P$ je *padding* hodnota (počet pridaných núl), $S$ je *stride* a $d$ je rozmer (šírka alebo výška). Keďže ale pri konvolúcii veľmi často používame štvorcové obrazy, rovnica platí pre oba rozmery naraz.\n",
    "\n",
    "**Implementujte funkciu `get_result_array` tak, aby vrátila n-rozmerné pole hodnôt inicializovaných na 0.** Vstupné parametre funkcie nosia nasledovné hodnoty:\n",
    "\n",
    "- `image_shape` - dvojica celočíselných hodnôt udávajúca rozmery vstupného obrazu (výška x šírka) ($I$)\n",
    "- `kernel_shape` - dvojica celočíselných hodnôt udávajúca rozmery vstupného obrazu (výška x šírka) ($k$)\n",
    "- `stride` - celočíselná hodnota, vyjadruje posun po aplikácii operácie ($S$)\n",
    "- `P` - *padding* hodnota, celé číslo ($P$)\n",
    "\n",
    "Vo funkcii by ste mali vykonať nasledovné kroky:\n",
    "\n",
    "1. vypočítať rozmery výstupnej príznakovej mapy podľa vyššie uvedeného vzorca\n",
    "2. skontrolujte, či výsledné rozmery sú celé čísla a ak nie, vyhoďte príslušnú chybu\n",
    "3. funkcia vráti dvojrozmerné pole 0 hodnôt s vypočítanými rozmermi (výška x šírka)"
   ]
  },
  {
   "cell_type": "code",
   "execution_count": 2,
   "metadata": {},
   "outputs": [],
   "source": [
    "def get_result_array(image_shape, kernel_shape, stride, P):\n",
    "    return None"
   ]
  },
  {
   "cell_type": "markdown",
   "metadata": {},
   "source": [
    "## 3. `get_padding_value`\n",
    "\n",
    "V ďalšom kroku implementujeme funkciu `get_padding_value`, ktorá vypočíta *padding* hodnotu, teda počet pridaných 0 pri danom nastavení parametrov. Ako sme už písali v bode 2, dnes budeme používať iba dva spôsoby *padding*u, a to *no padding* a *same padding*. V rámci funkcie takisto potrebujeme skontrolovať, či nastavenie parametrov dáva platný výsledok operácie pri použití *padding*u.\n",
    "\n",
    "V prípade *no padding* nepotrebujeme pridať nuly, teda *padding* hodnota je nulová. Pri *same padding* budeme predpokladať, že *stride* je 1, potom *padding* hodnotu vieme vypočítať podľa vzorca (odvodené z vyššie uvedeného vzorca, kde $m = I$):\n",
    "\n",
    "\\begin{equation*}\n",
    "P_{d} = \\frac{k_{d} - 1}{2},\n",
    "\\end{equation*}\n",
    "\n",
    "kde $P_{d}$ je *padding* hodnota v dimenzií $d$ a $k_{d}$ je rozmer filtra v danej dimenzií. Ak pracujeme so štvorcovým filtrom, *padding* hodnota je rovnaká v oboch smeroch.\n",
    "\n",
    "**Implementujte funkciu `get_padding_value` tak, aby vypočítala *padding* hodnotu a tiež skontrolovala, či platia všetky obmedzenia hodnôt parametrov:**\n",
    "\n",
    "- parameter `padding` môže nadobúdať hodnoty `'none'` a `'same'`\n",
    "- pri *same padding* musí mať parameter `stride` hodnotu `1`.\n",
    "\n",
    "Funkcia vráti jedno celé číslo a má nasledujúce parametre:\n",
    "\n",
    "- `kernel_shape` - dvojica celočíselných hodnôt udávajúca rozmery vstupného obrazu (výška x šírka) ($k$)\n",
    "- `stride` - celočíselná hodnota, vyjadruje posun po aplikácii operácie ($S$)\n",
    "- `padding` - reťazec s hodnotou `'none'` pre *no padding* alebo `'same'` pre *same padding*"
   ]
  },
  {
   "cell_type": "code",
   "execution_count": 3,
   "metadata": {},
   "outputs": [],
   "source": [
    "def get_padding_value(kernel_shape, stride, padding):\n",
    "    return 0"
   ]
  },
  {
   "cell_type": "markdown",
   "metadata": {},
   "source": [
    "## 4. `get_padded_image`\n",
    "\n",
    "Ďalšia funkcia vykoná *padding* nad obrázkom, t.j. pridá potrebný počet 0 vo všetkých smeroch, pôvodný obrázok sa nachádza potom v strede rozšíreného obrázka. Funkcia má dva parametre:\n",
    "\n",
    "- `image` - pôvodný obrázok\n",
    "- `P` - *padding* hodnota, počet pridaných núl.\n",
    "\n",
    "**Implementujte funkciu `get_padded_image`, ktorá vráti numpy pole s rozšíreným obrázkom. Pôvodnú premennú nemeňte.**"
   ]
  },
  {
   "cell_type": "code",
   "execution_count": 4,
   "metadata": {},
   "outputs": [],
   "source": [
    "def get_padded_image(image, P):\n",
    "    return image"
   ]
  },
  {
   "cell_type": "markdown",
   "metadata": {},
   "source": [
    "## 5. `convolute`\n",
    "\n",
    "V tomto kroku implementujeme konvolúciu. Na predspracovanie obrázka a prípravu výstupnej príznakovej mapy vieme použiť už vytvorené pomocné funkcie, našou jedinou úlohou ostáva naplniť pripravenú príznakovú mapu hodnotami aplikáciou konvolúcie. Funkcia má štyri parametre:\n",
    "\n",
    "- `image` - n-rozmerné pole reprezentujúce vstupný obrázok\n",
    "- `kernel` - n-rozmerné pole reprezentujúce konvolučný filter\n",
    "- `stride` - celočíselná hodnota, vyjadruje posun po aplikácii operácie\n",
    "- `padding` - reťazec s hodnotou `'none'` pre *no padding* alebo `'same'` pre *same padding*\n",
    "\n",
    "**Implementujte funkciu `convolute` tak, aby vrátila príznakovú mapu. Pri tom nemeňte pôvodné premenné `image` a `kernel`.**\n",
    "\n",
    "Po implementácii môžete vaše riešenie otestovať na definovaných príkladoch, alebo na vami zvolenom obrázku (opravte hodnoty parametrov v `main` funkcii)."
   ]
  },
  {
   "cell_type": "code",
   "execution_count": 7,
   "metadata": {},
   "outputs": [],
   "source": [
    "def convolute(image, kernel, stride=1, padding='none'):\n",
    "    return image"
   ]
  },
  {
   "cell_type": "markdown",
   "metadata": {},
   "source": [
    "## 6. `maxPool` a `avgPool`\n",
    "\n",
    "V poslednom kroku nám ostáva implementovať funkcie pre *pooling*. V skripte máte deklarované dve funkcie pre operácie *max pooling* a *average pooling*, ich telo je veľmi podobné riešeniu konvolúcie, jediný rozdiel je vo výpočte hodnôt v príznakovej mape. Obe funkcie majú štyri parametre:\n",
    "\n",
    "- `image` - n-rozmerné pole reprezentujúce vstupný obrázok\n",
    "- `kernel_size` - dvojica celočíselných hodnôt udávajúca rozmery vstupného obrázka (výška x šírka)\n",
    "- `stride` - celočíselná hodnota, vyjadruje posun po aplikácii operácie\n",
    "- `padding` - reťazec s hodnotou `'none'` pre *no padding* alebo `'same'` pre *same padding*\n",
    "\n",
    "**Implementujte a otestujte funkcie `maxPool` a `avgPool` tak, aby vrátili príznakovú mapu po aplikácii operácie *pooling*. Hodnoty vstupných premenných pritom nemeňte.**"
   ]
  },
  {
   "cell_type": "code",
   "execution_count": 8,
   "metadata": {},
   "outputs": [],
   "source": [
    "def maxPool(image, kernel_size, stride=1, padding='none'):\n",
    "    return image\n",
    "\n",
    "\n",
    "def avgPool(image, kernel_size, stride=1, padding='none'):\n",
    "    return image"
   ]
  },
  {
   "cell_type": "markdown",
   "metadata": {},
   "source": [
    "## Doplňujúce úlohy\n",
    "\n",
    "1. Ukážkové príklady počítali s čiernobielymi obrázkami. Opravte vaše riešenie tak, aby podporovalo prácu s obrázkami s viacerými farebnými kanálmi.\n",
    "2. Výpočet *padding* hodnoty v súčasnej forme nie vždy zabezpečuje rovnaké rozmery vstupov a výstupov. Upravte funkciu tak, aby vstupný obrázok rozšírila prioritne vľavo a hore tak, aby výstupná príznaková mapa bola vždy rovnakého rozmeru ako vstupný obrázok.\n",
    "3. Upravte výpočet *padding* hodnoty tak, aby podporoval aj iné hodnoty *stride* ako 1."
   ]
  },
  {
   "cell_type": "markdown",
   "metadata": {},
   "source": [
    "## Príprava programátorského prostredia\n",
    "\n",
    "Od budúceho cvičenia budeme pracovať s nástrojmi pre hlboké učenie `tensorflow` a `keras`. Práve preto je potrebné, aby ste si pripravili programátorské prostredie pre vývoj hlbokých modelov. Návod na inštaláciu potrebných nástrojov nájdete [tu](https://github.com/ianmagyar/dl-course/blob/master/labs/00%20-%20Setting-up-tensorflow.md).\n",
    "\n",
    "Ak vaše zadanie chcete urobiť pomocou `pytorch`, návod na inštaláciu je dostupný [tu](https://github.com/ianmagyar/dl-course/blob/master/labs/00%20-%20PyTorch.md)."
   ]
  },
  {
   "cell_type": "markdown",
   "metadata": {},
   "source": [
    "## Použité zdroje\n",
    "\n",
    "- [Convolution Image Size, Filter Size, Padding and Stride](https://jamesmccaffrey.wordpress.com/2018/05/30/convolution-image-size-filter-size-padding-and-stride/)"
   ]
  }
 ],
 "metadata": {
  "kernelspec": {
   "display_name": "Python 3",
   "language": "python",
   "name": "python3"
  },
  "language_info": {
   "codemirror_mode": {
    "name": "ipython",
    "version": 3
   },
   "file_extension": ".py",
   "mimetype": "text/x-python",
   "name": "python",
   "nbconvert_exporter": "python",
   "pygments_lexer": "ipython3",
   "version": "3.7.3"
  }
 },
 "nbformat": 4,
 "nbformat_minor": 2
}
