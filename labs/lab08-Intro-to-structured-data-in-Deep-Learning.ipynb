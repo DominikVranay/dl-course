{
  "cells": [
    {
      "cell_type": "code",
      "execution_count": 1,
      "metadata": {
        "ExecuteTime": {
          "end_time": "2020-11-09T07:22:49.909799Z",
          "start_time": "2020-11-09T07:22:48.586711Z"
        },
        "execution": {
          "iopub.execute_input": "2020-09-17T01:33:35.681275Z",
          "iopub.status.busy": "2020-09-17T01:33:35.680588Z",
          "iopub.status.idle": "2020-09-17T01:33:42.191163Z",
          "shell.execute_reply": "2020-09-17T01:33:42.190506Z"
        },
        "id": "LklnLlt6yEqf",
        "colab": {
          "base_uri": "https://localhost:8080/"
        },
        "outputId": "e482f2ef-0bc8-4e8d-a68e-f111378f58af"
      },
      "outputs": [
        {
          "output_type": "stream",
          "name": "stdout",
          "text": [
            "Downloading...\n",
            "From: https://drive.google.com/uc?id=1z973BYZ_MuWUPCzsmvYdT1jnjXpyGswJ\n",
            "To: /content/table_data.zip\n",
            "100% 26.1M/26.1M [00:00<00:00, 68.4MB/s]\n"
          ]
        }
      ],
      "source": [
        "import numpy as np\n",
        "import pandas as pd\n",
        "import tensorflow as tf\n",
        "from sklearn.model_selection import train_test_split\n",
        "from tensorflow.keras import layers\n",
        "from tensorflow.keras.layers.experimental import preprocessing\n",
        "!gdown 1z973BYZ_MuWUPCzsmvYdT1jnjXpyGswJ\n",
        "!unzip -q table_data.zip"
      ]
    },
    {
      "cell_type": "markdown",
      "metadata": {
        "id": "sMYQvJuBi7MS"
      },
      "source": [
        "# Tabular/Structured Data"
      ]
    },
    {
      "cell_type": "markdown",
      "metadata": {
        "id": "Oy5fNcefKyTY"
      },
      "source": [
        "Data from relational databases and spreadsheets are examples of structured data. Structured data are highly organized in a tabular structure to allow efficient operations on the table columns such as search and joins. "
      ]
    },
    {
      "cell_type": "markdown",
      "metadata": {
        "id": "ZHxU1FMNpomc"
      },
      "source": [
        "## The Dataset\n",
        "\n",
        "The goal of the contest is to predict the sale price of a particular piece of heavy equiment at auction based on it's usage, equipment type, and configuaration.  The data is sourced from auction result postings and includes information on usage and equipment configurations.\n",
        "\n",
        "Fast Iron is creating a \"blue book for bull dozers,\" for customers to value what their heavy equipment fleet is worth at auction.\n",
        "\n",
        "For more information, https://www.kaggle.com/c/bluebook-for-bulldozers/overview/description\n",
        "\n",
        "The key fields are in train.csv are:\n",
        "\n",
        "    SalesID: the uniue identifier of the sale\n",
        "    MachineID: the unique identifier of a machine.  A machine can be sold multiple times\n",
        "    saleprice: what the machine sold for at auction (only provided in train.csv)\n",
        "    saledate: the date of the sale\n",
        "\n",
        "There are several fields towards the end of the file on the different options a machine can have.  The descriptions all start with \"machine configuration\" in the data dictionary.  Some product types do not have a particular option, so all the records for that option variable will be null for that product type.  Also, some sources do not provide good option and/or hours data.\n",
        "\n",
        "The machine_appendix.csv file contains the correct year manufactured for a given machine along with the make, model, and product class details. There is one machine id for every machine in all the competition datasets (training, evaluation, etc.)."
      ]
    },
    {
      "cell_type": "code",
      "execution_count": 2,
      "metadata": {
        "ExecuteTime": {
          "end_time": "2020-11-09T07:22:51.177725Z",
          "start_time": "2020-11-09T07:22:49.911128Z"
        },
        "execution": {
          "iopub.execute_input": "2020-09-17T01:33:42.197790Z",
          "iopub.status.busy": "2020-09-17T01:33:42.197028Z",
          "iopub.status.idle": "2020-09-17T01:33:42.321623Z",
          "shell.execute_reply": "2020-09-17T01:33:42.320979Z"
        },
        "id": "qJ4Ajn-YyEqj"
      },
      "outputs": [],
      "source": [
        "import pathlib\n",
        "\n",
        "csv_file = 'Train.csv'\n",
        "dataframe = pd.read_csv(csv_file, low_memory=False)"
      ]
    },
    {
      "cell_type": "code",
      "execution_count": 3,
      "metadata": {
        "ExecuteTime": {
          "end_time": "2020-11-09T07:22:51.196520Z",
          "start_time": "2020-11-09T07:22:51.178840Z"
        },
        "execution": {
          "iopub.execute_input": "2020-09-17T01:33:42.343796Z",
          "iopub.status.busy": "2020-09-17T01:33:42.343010Z",
          "iopub.status.idle": "2020-09-17T01:33:42.352803Z",
          "shell.execute_reply": "2020-09-17T01:33:42.353374Z"
        },
        "id": "3uiq4hoIGyXI",
        "colab": {
          "base_uri": "https://localhost:8080/",
          "height": 386
        },
        "outputId": "e943bc8c-eb63-46d7-dc2b-7cb85c5187bb"
      },
      "outputs": [
        {
          "output_type": "execute_result",
          "data": {
            "text/plain": [
              "   SalesID  SalePrice  MachineID  ModelID  datasource  auctioneerID  YearMade  \\\n",
              "0  1139246      66000     999089     3157         121           3.0      2004   \n",
              "1  1139248      57000     117657       77         121           3.0      1996   \n",
              "2  1139249      10000     434808     7009         121           3.0      2001   \n",
              "3  1139251      38500    1026470      332         121           3.0      2001   \n",
              "4  1139253      11000    1057373    17311         121           3.0      2007   \n",
              "\n",
              "   MachineHoursCurrentMeter UsageBand         saledate  ...  \\\n",
              "0                      68.0       Low  11/16/2006 0:00  ...   \n",
              "1                    4640.0       Low   3/26/2004 0:00  ...   \n",
              "2                    2838.0      High   2/26/2004 0:00  ...   \n",
              "3                    3486.0      High   5/19/2011 0:00  ...   \n",
              "4                     722.0    Medium   7/23/2009 0:00  ...   \n",
              "\n",
              "  Undercarriage_Pad_Width Stick_Length Thumb Pattern_Changer Grouser_Type  \\\n",
              "0                     NaN          NaN   NaN             NaN          NaN   \n",
              "1                     NaN          NaN   NaN             NaN          NaN   \n",
              "2                     NaN          NaN   NaN             NaN          NaN   \n",
              "3                     NaN          NaN   NaN             NaN          NaN   \n",
              "4                     NaN          NaN   NaN             NaN          NaN   \n",
              "\n",
              "  Backhoe_Mounting Blade_Type Travel_Controls Differential_Type  \\\n",
              "0              NaN        NaN             NaN          Standard   \n",
              "1              NaN        NaN             NaN          Standard   \n",
              "2              NaN        NaN             NaN               NaN   \n",
              "3              NaN        NaN             NaN               NaN   \n",
              "4              NaN        NaN             NaN               NaN   \n",
              "\n",
              "  Steering_Controls  \n",
              "0      Conventional  \n",
              "1      Conventional  \n",
              "2               NaN  \n",
              "3               NaN  \n",
              "4               NaN  \n",
              "\n",
              "[5 rows x 53 columns]"
            ],
            "text/html": [
              "\n",
              "  <div id=\"df-b135f4ed-1b95-4465-85ab-7ee69f37c5da\">\n",
              "    <div class=\"colab-df-container\">\n",
              "      <div>\n",
              "<style scoped>\n",
              "    .dataframe tbody tr th:only-of-type {\n",
              "        vertical-align: middle;\n",
              "    }\n",
              "\n",
              "    .dataframe tbody tr th {\n",
              "        vertical-align: top;\n",
              "    }\n",
              "\n",
              "    .dataframe thead th {\n",
              "        text-align: right;\n",
              "    }\n",
              "</style>\n",
              "<table border=\"1\" class=\"dataframe\">\n",
              "  <thead>\n",
              "    <tr style=\"text-align: right;\">\n",
              "      <th></th>\n",
              "      <th>SalesID</th>\n",
              "      <th>SalePrice</th>\n",
              "      <th>MachineID</th>\n",
              "      <th>ModelID</th>\n",
              "      <th>datasource</th>\n",
              "      <th>auctioneerID</th>\n",
              "      <th>YearMade</th>\n",
              "      <th>MachineHoursCurrentMeter</th>\n",
              "      <th>UsageBand</th>\n",
              "      <th>saledate</th>\n",
              "      <th>...</th>\n",
              "      <th>Undercarriage_Pad_Width</th>\n",
              "      <th>Stick_Length</th>\n",
              "      <th>Thumb</th>\n",
              "      <th>Pattern_Changer</th>\n",
              "      <th>Grouser_Type</th>\n",
              "      <th>Backhoe_Mounting</th>\n",
              "      <th>Blade_Type</th>\n",
              "      <th>Travel_Controls</th>\n",
              "      <th>Differential_Type</th>\n",
              "      <th>Steering_Controls</th>\n",
              "    </tr>\n",
              "  </thead>\n",
              "  <tbody>\n",
              "    <tr>\n",
              "      <th>0</th>\n",
              "      <td>1139246</td>\n",
              "      <td>66000</td>\n",
              "      <td>999089</td>\n",
              "      <td>3157</td>\n",
              "      <td>121</td>\n",
              "      <td>3.0</td>\n",
              "      <td>2004</td>\n",
              "      <td>68.0</td>\n",
              "      <td>Low</td>\n",
              "      <td>11/16/2006 0:00</td>\n",
              "      <td>...</td>\n",
              "      <td>NaN</td>\n",
              "      <td>NaN</td>\n",
              "      <td>NaN</td>\n",
              "      <td>NaN</td>\n",
              "      <td>NaN</td>\n",
              "      <td>NaN</td>\n",
              "      <td>NaN</td>\n",
              "      <td>NaN</td>\n",
              "      <td>Standard</td>\n",
              "      <td>Conventional</td>\n",
              "    </tr>\n",
              "    <tr>\n",
              "      <th>1</th>\n",
              "      <td>1139248</td>\n",
              "      <td>57000</td>\n",
              "      <td>117657</td>\n",
              "      <td>77</td>\n",
              "      <td>121</td>\n",
              "      <td>3.0</td>\n",
              "      <td>1996</td>\n",
              "      <td>4640.0</td>\n",
              "      <td>Low</td>\n",
              "      <td>3/26/2004 0:00</td>\n",
              "      <td>...</td>\n",
              "      <td>NaN</td>\n",
              "      <td>NaN</td>\n",
              "      <td>NaN</td>\n",
              "      <td>NaN</td>\n",
              "      <td>NaN</td>\n",
              "      <td>NaN</td>\n",
              "      <td>NaN</td>\n",
              "      <td>NaN</td>\n",
              "      <td>Standard</td>\n",
              "      <td>Conventional</td>\n",
              "    </tr>\n",
              "    <tr>\n",
              "      <th>2</th>\n",
              "      <td>1139249</td>\n",
              "      <td>10000</td>\n",
              "      <td>434808</td>\n",
              "      <td>7009</td>\n",
              "      <td>121</td>\n",
              "      <td>3.0</td>\n",
              "      <td>2001</td>\n",
              "      <td>2838.0</td>\n",
              "      <td>High</td>\n",
              "      <td>2/26/2004 0:00</td>\n",
              "      <td>...</td>\n",
              "      <td>NaN</td>\n",
              "      <td>NaN</td>\n",
              "      <td>NaN</td>\n",
              "      <td>NaN</td>\n",
              "      <td>NaN</td>\n",
              "      <td>NaN</td>\n",
              "      <td>NaN</td>\n",
              "      <td>NaN</td>\n",
              "      <td>NaN</td>\n",
              "      <td>NaN</td>\n",
              "    </tr>\n",
              "    <tr>\n",
              "      <th>3</th>\n",
              "      <td>1139251</td>\n",
              "      <td>38500</td>\n",
              "      <td>1026470</td>\n",
              "      <td>332</td>\n",
              "      <td>121</td>\n",
              "      <td>3.0</td>\n",
              "      <td>2001</td>\n",
              "      <td>3486.0</td>\n",
              "      <td>High</td>\n",
              "      <td>5/19/2011 0:00</td>\n",
              "      <td>...</td>\n",
              "      <td>NaN</td>\n",
              "      <td>NaN</td>\n",
              "      <td>NaN</td>\n",
              "      <td>NaN</td>\n",
              "      <td>NaN</td>\n",
              "      <td>NaN</td>\n",
              "      <td>NaN</td>\n",
              "      <td>NaN</td>\n",
              "      <td>NaN</td>\n",
              "      <td>NaN</td>\n",
              "    </tr>\n",
              "    <tr>\n",
              "      <th>4</th>\n",
              "      <td>1139253</td>\n",
              "      <td>11000</td>\n",
              "      <td>1057373</td>\n",
              "      <td>17311</td>\n",
              "      <td>121</td>\n",
              "      <td>3.0</td>\n",
              "      <td>2007</td>\n",
              "      <td>722.0</td>\n",
              "      <td>Medium</td>\n",
              "      <td>7/23/2009 0:00</td>\n",
              "      <td>...</td>\n",
              "      <td>NaN</td>\n",
              "      <td>NaN</td>\n",
              "      <td>NaN</td>\n",
              "      <td>NaN</td>\n",
              "      <td>NaN</td>\n",
              "      <td>NaN</td>\n",
              "      <td>NaN</td>\n",
              "      <td>NaN</td>\n",
              "      <td>NaN</td>\n",
              "      <td>NaN</td>\n",
              "    </tr>\n",
              "  </tbody>\n",
              "</table>\n",
              "<p>5 rows × 53 columns</p>\n",
              "</div>\n",
              "      <button class=\"colab-df-convert\" onclick=\"convertToInteractive('df-b135f4ed-1b95-4465-85ab-7ee69f37c5da')\"\n",
              "              title=\"Convert this dataframe to an interactive table.\"\n",
              "              style=\"display:none;\">\n",
              "        \n",
              "  <svg xmlns=\"http://www.w3.org/2000/svg\" height=\"24px\"viewBox=\"0 0 24 24\"\n",
              "       width=\"24px\">\n",
              "    <path d=\"M0 0h24v24H0V0z\" fill=\"none\"/>\n",
              "    <path d=\"M18.56 5.44l.94 2.06.94-2.06 2.06-.94-2.06-.94-.94-2.06-.94 2.06-2.06.94zm-11 1L8.5 8.5l.94-2.06 2.06-.94-2.06-.94L8.5 2.5l-.94 2.06-2.06.94zm10 10l.94 2.06.94-2.06 2.06-.94-2.06-.94-.94-2.06-.94 2.06-2.06.94z\"/><path d=\"M17.41 7.96l-1.37-1.37c-.4-.4-.92-.59-1.43-.59-.52 0-1.04.2-1.43.59L10.3 9.45l-7.72 7.72c-.78.78-.78 2.05 0 2.83L4 21.41c.39.39.9.59 1.41.59.51 0 1.02-.2 1.41-.59l7.78-7.78 2.81-2.81c.8-.78.8-2.07 0-2.86zM5.41 20L4 18.59l7.72-7.72 1.47 1.35L5.41 20z\"/>\n",
              "  </svg>\n",
              "      </button>\n",
              "      \n",
              "  <style>\n",
              "    .colab-df-container {\n",
              "      display:flex;\n",
              "      flex-wrap:wrap;\n",
              "      gap: 12px;\n",
              "    }\n",
              "\n",
              "    .colab-df-convert {\n",
              "      background-color: #E8F0FE;\n",
              "      border: none;\n",
              "      border-radius: 50%;\n",
              "      cursor: pointer;\n",
              "      display: none;\n",
              "      fill: #1967D2;\n",
              "      height: 32px;\n",
              "      padding: 0 0 0 0;\n",
              "      width: 32px;\n",
              "    }\n",
              "\n",
              "    .colab-df-convert:hover {\n",
              "      background-color: #E2EBFA;\n",
              "      box-shadow: 0px 1px 2px rgba(60, 64, 67, 0.3), 0px 1px 3px 1px rgba(60, 64, 67, 0.15);\n",
              "      fill: #174EA6;\n",
              "    }\n",
              "\n",
              "    [theme=dark] .colab-df-convert {\n",
              "      background-color: #3B4455;\n",
              "      fill: #D2E3FC;\n",
              "    }\n",
              "\n",
              "    [theme=dark] .colab-df-convert:hover {\n",
              "      background-color: #434B5C;\n",
              "      box-shadow: 0px 1px 3px 1px rgba(0, 0, 0, 0.15);\n",
              "      filter: drop-shadow(0px 1px 2px rgba(0, 0, 0, 0.3));\n",
              "      fill: #FFFFFF;\n",
              "    }\n",
              "  </style>\n",
              "\n",
              "      <script>\n",
              "        const buttonEl =\n",
              "          document.querySelector('#df-b135f4ed-1b95-4465-85ab-7ee69f37c5da button.colab-df-convert');\n",
              "        buttonEl.style.display =\n",
              "          google.colab.kernel.accessAllowed ? 'block' : 'none';\n",
              "\n",
              "        async function convertToInteractive(key) {\n",
              "          const element = document.querySelector('#df-b135f4ed-1b95-4465-85ab-7ee69f37c5da');\n",
              "          const dataTable =\n",
              "            await google.colab.kernel.invokeFunction('convertToInteractive',\n",
              "                                                     [key], {});\n",
              "          if (!dataTable) return;\n",
              "\n",
              "          const docLinkHtml = 'Like what you see? Visit the ' +\n",
              "            '<a target=\"_blank\" href=https://colab.research.google.com/notebooks/data_table.ipynb>data table notebook</a>'\n",
              "            + ' to learn more about interactive tables.';\n",
              "          element.innerHTML = '';\n",
              "          dataTable['output_type'] = 'display_data';\n",
              "          await google.colab.output.renderOutput(dataTable, element);\n",
              "          const docLink = document.createElement('div');\n",
              "          docLink.innerHTML = docLinkHtml;\n",
              "          element.appendChild(docLink);\n",
              "        }\n",
              "      </script>\n",
              "    </div>\n",
              "  </div>\n",
              "  "
            ]
          },
          "metadata": {},
          "execution_count": 3
        }
      ],
      "source": [
        "dataframe.head()"
      ]
    },
    {
      "cell_type": "code",
      "execution_count": 4,
      "metadata": {
        "ExecuteTime": {
          "end_time": "2020-11-09T07:22:51.269325Z",
          "start_time": "2020-11-09T07:22:51.197612Z"
        },
        "colab": {
          "base_uri": "https://localhost:8080/",
          "height": 300
        },
        "id": "GUiTpPqSKyTd",
        "outputId": "99509852-b092-4a7e-dcda-805e4849b238"
      },
      "outputs": [
        {
          "output_type": "execute_result",
          "data": {
            "text/plain": [
              "            SalesID      SalePrice     MachineID        ModelID  \\\n",
              "count  4.011250e+05  401125.000000  4.011250e+05  401125.000000   \n",
              "mean   1.919713e+06   31099.712848  1.217903e+06    6889.702980   \n",
              "std    9.090215e+05   23036.898502  4.409920e+05    6221.777842   \n",
              "min    1.139246e+06    4750.000000  0.000000e+00      28.000000   \n",
              "25%    1.418371e+06   14500.000000  1.088697e+06    3259.000000   \n",
              "50%    1.639422e+06   24000.000000  1.279490e+06    4604.000000   \n",
              "75%    2.242707e+06   40000.000000  1.468067e+06    8724.000000   \n",
              "max    6.333342e+06  142000.000000  2.486330e+06   37198.000000   \n",
              "\n",
              "          datasource   auctioneerID       YearMade  MachineHoursCurrentMeter  \n",
              "count  401125.000000  380989.000000  401125.000000              1.427650e+05  \n",
              "mean      134.665810       6.556040    1899.156901              3.457955e+03  \n",
              "std         8.962237      16.976779     291.797469              2.759026e+04  \n",
              "min       121.000000       0.000000    1000.000000              0.000000e+00  \n",
              "25%       132.000000       1.000000    1985.000000              0.000000e+00  \n",
              "50%       132.000000       2.000000    1995.000000              0.000000e+00  \n",
              "75%       136.000000       4.000000    2000.000000              3.025000e+03  \n",
              "max       172.000000      99.000000    2013.000000              2.483300e+06  "
            ],
            "text/html": [
              "\n",
              "  <div id=\"df-200b6727-2653-4e4e-897e-3095ab741307\">\n",
              "    <div class=\"colab-df-container\">\n",
              "      <div>\n",
              "<style scoped>\n",
              "    .dataframe tbody tr th:only-of-type {\n",
              "        vertical-align: middle;\n",
              "    }\n",
              "\n",
              "    .dataframe tbody tr th {\n",
              "        vertical-align: top;\n",
              "    }\n",
              "\n",
              "    .dataframe thead th {\n",
              "        text-align: right;\n",
              "    }\n",
              "</style>\n",
              "<table border=\"1\" class=\"dataframe\">\n",
              "  <thead>\n",
              "    <tr style=\"text-align: right;\">\n",
              "      <th></th>\n",
              "      <th>SalesID</th>\n",
              "      <th>SalePrice</th>\n",
              "      <th>MachineID</th>\n",
              "      <th>ModelID</th>\n",
              "      <th>datasource</th>\n",
              "      <th>auctioneerID</th>\n",
              "      <th>YearMade</th>\n",
              "      <th>MachineHoursCurrentMeter</th>\n",
              "    </tr>\n",
              "  </thead>\n",
              "  <tbody>\n",
              "    <tr>\n",
              "      <th>count</th>\n",
              "      <td>4.011250e+05</td>\n",
              "      <td>401125.000000</td>\n",
              "      <td>4.011250e+05</td>\n",
              "      <td>401125.000000</td>\n",
              "      <td>401125.000000</td>\n",
              "      <td>380989.000000</td>\n",
              "      <td>401125.000000</td>\n",
              "      <td>1.427650e+05</td>\n",
              "    </tr>\n",
              "    <tr>\n",
              "      <th>mean</th>\n",
              "      <td>1.919713e+06</td>\n",
              "      <td>31099.712848</td>\n",
              "      <td>1.217903e+06</td>\n",
              "      <td>6889.702980</td>\n",
              "      <td>134.665810</td>\n",
              "      <td>6.556040</td>\n",
              "      <td>1899.156901</td>\n",
              "      <td>3.457955e+03</td>\n",
              "    </tr>\n",
              "    <tr>\n",
              "      <th>std</th>\n",
              "      <td>9.090215e+05</td>\n",
              "      <td>23036.898502</td>\n",
              "      <td>4.409920e+05</td>\n",
              "      <td>6221.777842</td>\n",
              "      <td>8.962237</td>\n",
              "      <td>16.976779</td>\n",
              "      <td>291.797469</td>\n",
              "      <td>2.759026e+04</td>\n",
              "    </tr>\n",
              "    <tr>\n",
              "      <th>min</th>\n",
              "      <td>1.139246e+06</td>\n",
              "      <td>4750.000000</td>\n",
              "      <td>0.000000e+00</td>\n",
              "      <td>28.000000</td>\n",
              "      <td>121.000000</td>\n",
              "      <td>0.000000</td>\n",
              "      <td>1000.000000</td>\n",
              "      <td>0.000000e+00</td>\n",
              "    </tr>\n",
              "    <tr>\n",
              "      <th>25%</th>\n",
              "      <td>1.418371e+06</td>\n",
              "      <td>14500.000000</td>\n",
              "      <td>1.088697e+06</td>\n",
              "      <td>3259.000000</td>\n",
              "      <td>132.000000</td>\n",
              "      <td>1.000000</td>\n",
              "      <td>1985.000000</td>\n",
              "      <td>0.000000e+00</td>\n",
              "    </tr>\n",
              "    <tr>\n",
              "      <th>50%</th>\n",
              "      <td>1.639422e+06</td>\n",
              "      <td>24000.000000</td>\n",
              "      <td>1.279490e+06</td>\n",
              "      <td>4604.000000</td>\n",
              "      <td>132.000000</td>\n",
              "      <td>2.000000</td>\n",
              "      <td>1995.000000</td>\n",
              "      <td>0.000000e+00</td>\n",
              "    </tr>\n",
              "    <tr>\n",
              "      <th>75%</th>\n",
              "      <td>2.242707e+06</td>\n",
              "      <td>40000.000000</td>\n",
              "      <td>1.468067e+06</td>\n",
              "      <td>8724.000000</td>\n",
              "      <td>136.000000</td>\n",
              "      <td>4.000000</td>\n",
              "      <td>2000.000000</td>\n",
              "      <td>3.025000e+03</td>\n",
              "    </tr>\n",
              "    <tr>\n",
              "      <th>max</th>\n",
              "      <td>6.333342e+06</td>\n",
              "      <td>142000.000000</td>\n",
              "      <td>2.486330e+06</td>\n",
              "      <td>37198.000000</td>\n",
              "      <td>172.000000</td>\n",
              "      <td>99.000000</td>\n",
              "      <td>2013.000000</td>\n",
              "      <td>2.483300e+06</td>\n",
              "    </tr>\n",
              "  </tbody>\n",
              "</table>\n",
              "</div>\n",
              "      <button class=\"colab-df-convert\" onclick=\"convertToInteractive('df-200b6727-2653-4e4e-897e-3095ab741307')\"\n",
              "              title=\"Convert this dataframe to an interactive table.\"\n",
              "              style=\"display:none;\">\n",
              "        \n",
              "  <svg xmlns=\"http://www.w3.org/2000/svg\" height=\"24px\"viewBox=\"0 0 24 24\"\n",
              "       width=\"24px\">\n",
              "    <path d=\"M0 0h24v24H0V0z\" fill=\"none\"/>\n",
              "    <path d=\"M18.56 5.44l.94 2.06.94-2.06 2.06-.94-2.06-.94-.94-2.06-.94 2.06-2.06.94zm-11 1L8.5 8.5l.94-2.06 2.06-.94-2.06-.94L8.5 2.5l-.94 2.06-2.06.94zm10 10l.94 2.06.94-2.06 2.06-.94-2.06-.94-.94-2.06-.94 2.06-2.06.94z\"/><path d=\"M17.41 7.96l-1.37-1.37c-.4-.4-.92-.59-1.43-.59-.52 0-1.04.2-1.43.59L10.3 9.45l-7.72 7.72c-.78.78-.78 2.05 0 2.83L4 21.41c.39.39.9.59 1.41.59.51 0 1.02-.2 1.41-.59l7.78-7.78 2.81-2.81c.8-.78.8-2.07 0-2.86zM5.41 20L4 18.59l7.72-7.72 1.47 1.35L5.41 20z\"/>\n",
              "  </svg>\n",
              "      </button>\n",
              "      \n",
              "  <style>\n",
              "    .colab-df-container {\n",
              "      display:flex;\n",
              "      flex-wrap:wrap;\n",
              "      gap: 12px;\n",
              "    }\n",
              "\n",
              "    .colab-df-convert {\n",
              "      background-color: #E8F0FE;\n",
              "      border: none;\n",
              "      border-radius: 50%;\n",
              "      cursor: pointer;\n",
              "      display: none;\n",
              "      fill: #1967D2;\n",
              "      height: 32px;\n",
              "      padding: 0 0 0 0;\n",
              "      width: 32px;\n",
              "    }\n",
              "\n",
              "    .colab-df-convert:hover {\n",
              "      background-color: #E2EBFA;\n",
              "      box-shadow: 0px 1px 2px rgba(60, 64, 67, 0.3), 0px 1px 3px 1px rgba(60, 64, 67, 0.15);\n",
              "      fill: #174EA6;\n",
              "    }\n",
              "\n",
              "    [theme=dark] .colab-df-convert {\n",
              "      background-color: #3B4455;\n",
              "      fill: #D2E3FC;\n",
              "    }\n",
              "\n",
              "    [theme=dark] .colab-df-convert:hover {\n",
              "      background-color: #434B5C;\n",
              "      box-shadow: 0px 1px 3px 1px rgba(0, 0, 0, 0.15);\n",
              "      filter: drop-shadow(0px 1px 2px rgba(0, 0, 0, 0.3));\n",
              "      fill: #FFFFFF;\n",
              "    }\n",
              "  </style>\n",
              "\n",
              "      <script>\n",
              "        const buttonEl =\n",
              "          document.querySelector('#df-200b6727-2653-4e4e-897e-3095ab741307 button.colab-df-convert');\n",
              "        buttonEl.style.display =\n",
              "          google.colab.kernel.accessAllowed ? 'block' : 'none';\n",
              "\n",
              "        async function convertToInteractive(key) {\n",
              "          const element = document.querySelector('#df-200b6727-2653-4e4e-897e-3095ab741307');\n",
              "          const dataTable =\n",
              "            await google.colab.kernel.invokeFunction('convertToInteractive',\n",
              "                                                     [key], {});\n",
              "          if (!dataTable) return;\n",
              "\n",
              "          const docLinkHtml = 'Like what you see? Visit the ' +\n",
              "            '<a target=\"_blank\" href=https://colab.research.google.com/notebooks/data_table.ipynb>data table notebook</a>'\n",
              "            + ' to learn more about interactive tables.';\n",
              "          element.innerHTML = '';\n",
              "          dataTable['output_type'] = 'display_data';\n",
              "          await google.colab.output.renderOutput(dataTable, element);\n",
              "          const docLink = document.createElement('div');\n",
              "          docLink.innerHTML = docLinkHtml;\n",
              "          element.appendChild(docLink);\n",
              "        }\n",
              "      </script>\n",
              "    </div>\n",
              "  </div>\n",
              "  "
            ]
          },
          "metadata": {},
          "execution_count": 4
        }
      ],
      "source": [
        "dataframe.describe()"
      ]
    },
    {
      "cell_type": "code",
      "execution_count": 5,
      "metadata": {
        "ExecuteTime": {
          "end_time": "2020-11-09T07:22:51.273220Z",
          "start_time": "2020-11-09T07:22:51.270303Z"
        },
        "colab": {
          "base_uri": "https://localhost:8080/"
        },
        "id": "dgXecwkhKyTe",
        "outputId": "4d1ae39a-060e-4c9a-a5d0-069c9acca11b"
      },
      "outputs": [
        {
          "output_type": "execute_result",
          "data": {
            "text/plain": [
              "Index(['SalesID', 'SalePrice', 'MachineID', 'ModelID', 'datasource',\n",
              "       'auctioneerID', 'YearMade', 'MachineHoursCurrentMeter', 'UsageBand',\n",
              "       'saledate', 'fiModelDesc', 'fiBaseModel', 'fiSecondaryDesc',\n",
              "       'fiModelSeries', 'fiModelDescriptor', 'ProductSize',\n",
              "       'fiProductClassDesc', 'state', 'ProductGroup', 'ProductGroupDesc',\n",
              "       'Drive_System', 'Enclosure', 'Forks', 'Pad_Type', 'Ride_Control',\n",
              "       'Stick', 'Transmission', 'Turbocharged', 'Blade_Extension',\n",
              "       'Blade_Width', 'Enclosure_Type', 'Engine_Horsepower', 'Hydraulics',\n",
              "       'Pushblock', 'Ripper', 'Scarifier', 'Tip_Control', 'Tire_Size',\n",
              "       'Coupler', 'Coupler_System', 'Grouser_Tracks', 'Hydraulics_Flow',\n",
              "       'Track_Type', 'Undercarriage_Pad_Width', 'Stick_Length', 'Thumb',\n",
              "       'Pattern_Changer', 'Grouser_Type', 'Backhoe_Mounting', 'Blade_Type',\n",
              "       'Travel_Controls', 'Differential_Type', 'Steering_Controls'],\n",
              "      dtype='object')"
            ]
          },
          "metadata": {},
          "execution_count": 5
        }
      ],
      "source": [
        "dataframe.columns"
      ]
    },
    {
      "cell_type": "code",
      "execution_count": 6,
      "metadata": {
        "ExecuteTime": {
          "end_time": "2020-11-09T07:22:51.296372Z",
          "start_time": "2020-11-09T07:22:51.274987Z"
        },
        "colab": {
          "base_uri": "https://localhost:8080/"
        },
        "id": "ws9LGobIKyTf",
        "outputId": "af6728c1-436e-4cf0-e354-3aa2499cf8f9"
      },
      "outputs": [
        {
          "output_type": "execute_result",
          "data": {
            "text/plain": [
              "array(['Alabama', 'North Carolina', 'New York', 'Texas', 'Arizona',\n",
              "       'Florida', 'Illinois', 'Oregon', 'Ohio', 'Arkansas', 'Wisconsin',\n",
              "       'Kansas', 'Nevada', 'Iowa', 'Maine', 'Massachusetts', 'California',\n",
              "       'Louisiana', 'Minnesota', 'New Hampshire', 'Idaho', 'Michigan',\n",
              "       'Mississippi', 'Georgia', 'Missouri', 'South Carolina', 'Utah',\n",
              "       'Tennessee', 'Washington', 'Virginia', 'South Dakota',\n",
              "       'West Virginia', 'Oklahoma', 'Pennsylvania', 'Wyoming',\n",
              "       'North Dakota', 'New Jersey', 'Kentucky', 'Montana', 'Alaska',\n",
              "       'Nebraska', 'Maryland', 'Hawaii', 'Colorado', 'New Mexico',\n",
              "       'Indiana', 'Connecticut', 'Delaware', 'Rhode Island', 'Vermont',\n",
              "       'Washington DC', 'Puerto Rico', 'Unspecified'], dtype=object)"
            ]
          },
          "metadata": {},
          "execution_count": 6
        }
      ],
      "source": [
        "dataframe[\"state\"].unique()"
      ]
    },
    {
      "cell_type": "markdown",
      "metadata": {
        "id": "C3zDbrozyEqq"
      },
      "source": [
        "## Dependent variable\n",
        "\n",
        "The most important data column is the dependent variable—that is, the one we want to predict."
      ]
    },
    {
      "cell_type": "code",
      "execution_count": 7,
      "metadata": {
        "ExecuteTime": {
          "end_time": "2020-11-09T07:22:51.301265Z",
          "start_time": "2020-11-09T07:22:51.297618Z"
        },
        "colab": {
          "base_uri": "https://localhost:8080/"
        },
        "id": "YLplhJGJKyTh",
        "outputId": "a44f70c1-ff60-4138-8247-1efc25a98fc6"
      },
      "outputs": [
        {
          "output_type": "execute_result",
          "data": {
            "text/plain": [
              "0         66000\n",
              "1         57000\n",
              "2         10000\n",
              "3         38500\n",
              "4         11000\n",
              "          ...  \n",
              "401120    10500\n",
              "401121    11000\n",
              "401122    11500\n",
              "401123     9000\n",
              "401124     7750\n",
              "Name: SalePrice, Length: 401125, dtype: int64"
            ]
          },
          "metadata": {},
          "execution_count": 7
        }
      ],
      "source": [
        "dep_var = \"SalePrice\"\n",
        "dataframe[dep_var]"
      ]
    },
    {
      "cell_type": "markdown",
      "metadata": {
        "id": "0JC1i6DDKyTh"
      },
      "source": [
        "In this problem we are required to optimize the RMSLE (check dataset descritpion). Therefore we convert our target variable to the log of itself. "
      ]
    },
    {
      "cell_type": "code",
      "execution_count": 8,
      "metadata": {
        "ExecuteTime": {
          "end_time": "2020-11-09T07:22:51.317557Z",
          "start_time": "2020-11-09T07:22:51.302591Z"
        },
        "id": "ynhTGlcDKyTi"
      },
      "outputs": [],
      "source": [
        "dataframe[dep_var] = np.log(dataframe[dep_var])"
      ]
    },
    {
      "cell_type": "code",
      "execution_count": 9,
      "metadata": {
        "ExecuteTime": {
          "end_time": "2020-11-09T07:22:51.322019Z",
          "start_time": "2020-11-09T07:22:51.318473Z"
        },
        "colab": {
          "base_uri": "https://localhost:8080/"
        },
        "id": "1MP_QRH9KyTi",
        "outputId": "25e62986-83e4-46f7-cee4-a3c3078d471f"
      },
      "outputs": [
        {
          "output_type": "execute_result",
          "data": {
            "text/plain": [
              "0         11.097410\n",
              "1         10.950807\n",
              "2          9.210340\n",
              "3         10.558414\n",
              "4          9.305651\n",
              "            ...    \n",
              "401120     9.259131\n",
              "401121     9.305651\n",
              "401122     9.350102\n",
              "401123     9.104980\n",
              "401124     8.955448\n",
              "Name: SalePrice, Length: 401125, dtype: float64"
            ]
          },
          "metadata": {},
          "execution_count": 9
        }
      ],
      "source": [
        "dataframe[dep_var]"
      ]
    },
    {
      "cell_type": "markdown",
      "metadata": {
        "id": "qtB1v3jHKyTj"
      },
      "source": [
        "## Note on ML/DL with Tabular Data\n",
        "\n",
        "When handling tabular data, you have mainly 2 choices:\n",
        "* Use regular machine learning like Random forest, Gradient Boosting Tree, ... Those ML methods are generaly faster to train, easier to interpret, doesn't require that much data and requires less preprocessing. However in certain scenario they may not be able to transfer easily to real-world testing set.\n",
        "* With DL on the other hand, you will need much more data, more preprocessing. As a rule of thumb you want to make the life of your neural network as easy as possible. "
      ]
    },
    {
      "cell_type": "markdown",
      "metadata": {
        "ExecuteTime": {
          "end_time": "2020-11-09T04:49:14.042921Z",
          "start_time": "2020-11-09T04:49:14.040899Z"
        },
        "id": "1n3nFptxKyTj"
      },
      "source": [
        "## Preprocessing"
      ]
    },
    {
      "cell_type": "markdown",
      "metadata": {
        "id": "EWOedAn-KyTj"
      },
      "source": [
        "In DL with structured data, you will spend most of your time preprocessing your data. Here we will list helpfull tricks that works 90% of the times and rules of thumb that you may use to begin with. You can add more column based on your knowledge. "
      ]
    },
    {
      "cell_type": "code",
      "execution_count": 10,
      "metadata": {
        "ExecuteTime": {
          "end_time": "2020-11-09T07:22:51.337659Z",
          "start_time": "2020-11-09T07:22:51.322888Z"
        },
        "colab": {
          "base_uri": "https://localhost:8080/",
          "height": 386
        },
        "id": "fY5NBsLeKyTk",
        "outputId": "14f8b4be-585c-42d1-8bde-89c0e4fae782"
      },
      "outputs": [
        {
          "output_type": "execute_result",
          "data": {
            "text/plain": [
              "   SalesID  SalePrice  MachineID  ModelID  datasource  auctioneerID  YearMade  \\\n",
              "0  1139246  11.097410     999089     3157         121           3.0      2004   \n",
              "1  1139248  10.950807     117657       77         121           3.0      1996   \n",
              "2  1139249   9.210340     434808     7009         121           3.0      2001   \n",
              "3  1139251  10.558414    1026470      332         121           3.0      2001   \n",
              "4  1139253   9.305651    1057373    17311         121           3.0      2007   \n",
              "\n",
              "   MachineHoursCurrentMeter UsageBand         saledate  ...  \\\n",
              "0                      68.0       Low  11/16/2006 0:00  ...   \n",
              "1                    4640.0       Low   3/26/2004 0:00  ...   \n",
              "2                    2838.0      High   2/26/2004 0:00  ...   \n",
              "3                    3486.0      High   5/19/2011 0:00  ...   \n",
              "4                     722.0    Medium   7/23/2009 0:00  ...   \n",
              "\n",
              "  Undercarriage_Pad_Width Stick_Length Thumb Pattern_Changer Grouser_Type  \\\n",
              "0                     NaN          NaN   NaN             NaN          NaN   \n",
              "1                     NaN          NaN   NaN             NaN          NaN   \n",
              "2                     NaN          NaN   NaN             NaN          NaN   \n",
              "3                     NaN          NaN   NaN             NaN          NaN   \n",
              "4                     NaN          NaN   NaN             NaN          NaN   \n",
              "\n",
              "  Backhoe_Mounting Blade_Type Travel_Controls Differential_Type  \\\n",
              "0              NaN        NaN             NaN          Standard   \n",
              "1              NaN        NaN             NaN          Standard   \n",
              "2              NaN        NaN             NaN               NaN   \n",
              "3              NaN        NaN             NaN               NaN   \n",
              "4              NaN        NaN             NaN               NaN   \n",
              "\n",
              "  Steering_Controls  \n",
              "0      Conventional  \n",
              "1      Conventional  \n",
              "2               NaN  \n",
              "3               NaN  \n",
              "4               NaN  \n",
              "\n",
              "[5 rows x 53 columns]"
            ],
            "text/html": [
              "\n",
              "  <div id=\"df-ea720fec-1be1-4b34-a08a-4e39e3ecfcd7\">\n",
              "    <div class=\"colab-df-container\">\n",
              "      <div>\n",
              "<style scoped>\n",
              "    .dataframe tbody tr th:only-of-type {\n",
              "        vertical-align: middle;\n",
              "    }\n",
              "\n",
              "    .dataframe tbody tr th {\n",
              "        vertical-align: top;\n",
              "    }\n",
              "\n",
              "    .dataframe thead th {\n",
              "        text-align: right;\n",
              "    }\n",
              "</style>\n",
              "<table border=\"1\" class=\"dataframe\">\n",
              "  <thead>\n",
              "    <tr style=\"text-align: right;\">\n",
              "      <th></th>\n",
              "      <th>SalesID</th>\n",
              "      <th>SalePrice</th>\n",
              "      <th>MachineID</th>\n",
              "      <th>ModelID</th>\n",
              "      <th>datasource</th>\n",
              "      <th>auctioneerID</th>\n",
              "      <th>YearMade</th>\n",
              "      <th>MachineHoursCurrentMeter</th>\n",
              "      <th>UsageBand</th>\n",
              "      <th>saledate</th>\n",
              "      <th>...</th>\n",
              "      <th>Undercarriage_Pad_Width</th>\n",
              "      <th>Stick_Length</th>\n",
              "      <th>Thumb</th>\n",
              "      <th>Pattern_Changer</th>\n",
              "      <th>Grouser_Type</th>\n",
              "      <th>Backhoe_Mounting</th>\n",
              "      <th>Blade_Type</th>\n",
              "      <th>Travel_Controls</th>\n",
              "      <th>Differential_Type</th>\n",
              "      <th>Steering_Controls</th>\n",
              "    </tr>\n",
              "  </thead>\n",
              "  <tbody>\n",
              "    <tr>\n",
              "      <th>0</th>\n",
              "      <td>1139246</td>\n",
              "      <td>11.097410</td>\n",
              "      <td>999089</td>\n",
              "      <td>3157</td>\n",
              "      <td>121</td>\n",
              "      <td>3.0</td>\n",
              "      <td>2004</td>\n",
              "      <td>68.0</td>\n",
              "      <td>Low</td>\n",
              "      <td>11/16/2006 0:00</td>\n",
              "      <td>...</td>\n",
              "      <td>NaN</td>\n",
              "      <td>NaN</td>\n",
              "      <td>NaN</td>\n",
              "      <td>NaN</td>\n",
              "      <td>NaN</td>\n",
              "      <td>NaN</td>\n",
              "      <td>NaN</td>\n",
              "      <td>NaN</td>\n",
              "      <td>Standard</td>\n",
              "      <td>Conventional</td>\n",
              "    </tr>\n",
              "    <tr>\n",
              "      <th>1</th>\n",
              "      <td>1139248</td>\n",
              "      <td>10.950807</td>\n",
              "      <td>117657</td>\n",
              "      <td>77</td>\n",
              "      <td>121</td>\n",
              "      <td>3.0</td>\n",
              "      <td>1996</td>\n",
              "      <td>4640.0</td>\n",
              "      <td>Low</td>\n",
              "      <td>3/26/2004 0:00</td>\n",
              "      <td>...</td>\n",
              "      <td>NaN</td>\n",
              "      <td>NaN</td>\n",
              "      <td>NaN</td>\n",
              "      <td>NaN</td>\n",
              "      <td>NaN</td>\n",
              "      <td>NaN</td>\n",
              "      <td>NaN</td>\n",
              "      <td>NaN</td>\n",
              "      <td>Standard</td>\n",
              "      <td>Conventional</td>\n",
              "    </tr>\n",
              "    <tr>\n",
              "      <th>2</th>\n",
              "      <td>1139249</td>\n",
              "      <td>9.210340</td>\n",
              "      <td>434808</td>\n",
              "      <td>7009</td>\n",
              "      <td>121</td>\n",
              "      <td>3.0</td>\n",
              "      <td>2001</td>\n",
              "      <td>2838.0</td>\n",
              "      <td>High</td>\n",
              "      <td>2/26/2004 0:00</td>\n",
              "      <td>...</td>\n",
              "      <td>NaN</td>\n",
              "      <td>NaN</td>\n",
              "      <td>NaN</td>\n",
              "      <td>NaN</td>\n",
              "      <td>NaN</td>\n",
              "      <td>NaN</td>\n",
              "      <td>NaN</td>\n",
              "      <td>NaN</td>\n",
              "      <td>NaN</td>\n",
              "      <td>NaN</td>\n",
              "    </tr>\n",
              "    <tr>\n",
              "      <th>3</th>\n",
              "      <td>1139251</td>\n",
              "      <td>10.558414</td>\n",
              "      <td>1026470</td>\n",
              "      <td>332</td>\n",
              "      <td>121</td>\n",
              "      <td>3.0</td>\n",
              "      <td>2001</td>\n",
              "      <td>3486.0</td>\n",
              "      <td>High</td>\n",
              "      <td>5/19/2011 0:00</td>\n",
              "      <td>...</td>\n",
              "      <td>NaN</td>\n",
              "      <td>NaN</td>\n",
              "      <td>NaN</td>\n",
              "      <td>NaN</td>\n",
              "      <td>NaN</td>\n",
              "      <td>NaN</td>\n",
              "      <td>NaN</td>\n",
              "      <td>NaN</td>\n",
              "      <td>NaN</td>\n",
              "      <td>NaN</td>\n",
              "    </tr>\n",
              "    <tr>\n",
              "      <th>4</th>\n",
              "      <td>1139253</td>\n",
              "      <td>9.305651</td>\n",
              "      <td>1057373</td>\n",
              "      <td>17311</td>\n",
              "      <td>121</td>\n",
              "      <td>3.0</td>\n",
              "      <td>2007</td>\n",
              "      <td>722.0</td>\n",
              "      <td>Medium</td>\n",
              "      <td>7/23/2009 0:00</td>\n",
              "      <td>...</td>\n",
              "      <td>NaN</td>\n",
              "      <td>NaN</td>\n",
              "      <td>NaN</td>\n",
              "      <td>NaN</td>\n",
              "      <td>NaN</td>\n",
              "      <td>NaN</td>\n",
              "      <td>NaN</td>\n",
              "      <td>NaN</td>\n",
              "      <td>NaN</td>\n",
              "      <td>NaN</td>\n",
              "    </tr>\n",
              "  </tbody>\n",
              "</table>\n",
              "<p>5 rows × 53 columns</p>\n",
              "</div>\n",
              "      <button class=\"colab-df-convert\" onclick=\"convertToInteractive('df-ea720fec-1be1-4b34-a08a-4e39e3ecfcd7')\"\n",
              "              title=\"Convert this dataframe to an interactive table.\"\n",
              "              style=\"display:none;\">\n",
              "        \n",
              "  <svg xmlns=\"http://www.w3.org/2000/svg\" height=\"24px\"viewBox=\"0 0 24 24\"\n",
              "       width=\"24px\">\n",
              "    <path d=\"M0 0h24v24H0V0z\" fill=\"none\"/>\n",
              "    <path d=\"M18.56 5.44l.94 2.06.94-2.06 2.06-.94-2.06-.94-.94-2.06-.94 2.06-2.06.94zm-11 1L8.5 8.5l.94-2.06 2.06-.94-2.06-.94L8.5 2.5l-.94 2.06-2.06.94zm10 10l.94 2.06.94-2.06 2.06-.94-2.06-.94-.94-2.06-.94 2.06-2.06.94z\"/><path d=\"M17.41 7.96l-1.37-1.37c-.4-.4-.92-.59-1.43-.59-.52 0-1.04.2-1.43.59L10.3 9.45l-7.72 7.72c-.78.78-.78 2.05 0 2.83L4 21.41c.39.39.9.59 1.41.59.51 0 1.02-.2 1.41-.59l7.78-7.78 2.81-2.81c.8-.78.8-2.07 0-2.86zM5.41 20L4 18.59l7.72-7.72 1.47 1.35L5.41 20z\"/>\n",
              "  </svg>\n",
              "      </button>\n",
              "      \n",
              "  <style>\n",
              "    .colab-df-container {\n",
              "      display:flex;\n",
              "      flex-wrap:wrap;\n",
              "      gap: 12px;\n",
              "    }\n",
              "\n",
              "    .colab-df-convert {\n",
              "      background-color: #E8F0FE;\n",
              "      border: none;\n",
              "      border-radius: 50%;\n",
              "      cursor: pointer;\n",
              "      display: none;\n",
              "      fill: #1967D2;\n",
              "      height: 32px;\n",
              "      padding: 0 0 0 0;\n",
              "      width: 32px;\n",
              "    }\n",
              "\n",
              "    .colab-df-convert:hover {\n",
              "      background-color: #E2EBFA;\n",
              "      box-shadow: 0px 1px 2px rgba(60, 64, 67, 0.3), 0px 1px 3px 1px rgba(60, 64, 67, 0.15);\n",
              "      fill: #174EA6;\n",
              "    }\n",
              "\n",
              "    [theme=dark] .colab-df-convert {\n",
              "      background-color: #3B4455;\n",
              "      fill: #D2E3FC;\n",
              "    }\n",
              "\n",
              "    [theme=dark] .colab-df-convert:hover {\n",
              "      background-color: #434B5C;\n",
              "      box-shadow: 0px 1px 3px 1px rgba(0, 0, 0, 0.15);\n",
              "      filter: drop-shadow(0px 1px 2px rgba(0, 0, 0, 0.3));\n",
              "      fill: #FFFFFF;\n",
              "    }\n",
              "  </style>\n",
              "\n",
              "      <script>\n",
              "        const buttonEl =\n",
              "          document.querySelector('#df-ea720fec-1be1-4b34-a08a-4e39e3ecfcd7 button.colab-df-convert');\n",
              "        buttonEl.style.display =\n",
              "          google.colab.kernel.accessAllowed ? 'block' : 'none';\n",
              "\n",
              "        async function convertToInteractive(key) {\n",
              "          const element = document.querySelector('#df-ea720fec-1be1-4b34-a08a-4e39e3ecfcd7');\n",
              "          const dataTable =\n",
              "            await google.colab.kernel.invokeFunction('convertToInteractive',\n",
              "                                                     [key], {});\n",
              "          if (!dataTable) return;\n",
              "\n",
              "          const docLinkHtml = 'Like what you see? Visit the ' +\n",
              "            '<a target=\"_blank\" href=https://colab.research.google.com/notebooks/data_table.ipynb>data table notebook</a>'\n",
              "            + ' to learn more about interactive tables.';\n",
              "          element.innerHTML = '';\n",
              "          dataTable['output_type'] = 'display_data';\n",
              "          await google.colab.output.renderOutput(dataTable, element);\n",
              "          const docLink = document.createElement('div');\n",
              "          docLink.innerHTML = docLinkHtml;\n",
              "          element.appendChild(docLink);\n",
              "        }\n",
              "      </script>\n",
              "    </div>\n",
              "  </div>\n",
              "  "
            ]
          },
          "metadata": {},
          "execution_count": 10
        }
      ],
      "source": [
        "dataframe.head()"
      ]
    },
    {
      "cell_type": "markdown",
      "metadata": {
        "ExecuteTime": {
          "end_time": "2020-11-09T04:52:09.914933Z",
          "start_time": "2020-11-09T04:52:09.912265Z"
        },
        "id": "2uHgTc00KyTl"
      },
      "source": [
        "We have generaly two types of variables:\n",
        " * Categorical\n",
        " * Continuous "
      ]
    },
    {
      "cell_type": "markdown",
      "metadata": {
        "id": "JRSWMoVGKyTl"
      },
      "source": [
        "As a rule of thumb let's make a variable with less than 20 cardinality categorical."
      ]
    },
    {
      "cell_type": "code",
      "execution_count": 11,
      "metadata": {
        "ExecuteTime": {
          "end_time": "2020-11-09T07:22:51.341944Z",
          "start_time": "2020-11-09T07:22:51.338497Z"
        },
        "id": "HjeqFtq1KyTl"
      },
      "outputs": [],
      "source": [
        "def cont_cat_split(df, max_card=20, dep_var=None):\n",
        "    cont_names, cat_names = [], []\n",
        "    for label in df:\n",
        "        if label in [dep_var]: continue\n",
        "        if df[label].dtype == int and df[label].unique().shape[0] > max_card or df[label].dtype == float:\n",
        "            cont_names.append(label)\n",
        "        else: cat_names.append(label)\n",
        "    return cont_names, cat_names"
      ]
    },
    {
      "cell_type": "code",
      "execution_count": 12,
      "metadata": {
        "ExecuteTime": {
          "end_time": "2020-11-09T07:22:51.369430Z",
          "start_time": "2020-11-09T07:22:51.342794Z"
        },
        "id": "_sVhoDacKyTl"
      },
      "outputs": [],
      "source": [
        "cont, cat = cont_cat_split(dataframe, dep_var=dep_var)"
      ]
    },
    {
      "cell_type": "markdown",
      "metadata": {
        "id": "TLOhg5c5KyTm"
      },
      "source": [
        "List of our continuous variable"
      ]
    },
    {
      "cell_type": "code",
      "execution_count": 13,
      "metadata": {
        "ExecuteTime": {
          "end_time": "2020-11-09T07:22:51.373165Z",
          "start_time": "2020-11-09T07:22:51.370564Z"
        },
        "colab": {
          "base_uri": "https://localhost:8080/"
        },
        "id": "PuEBy8AOKyTm",
        "outputId": "4218edc3-ba18-4713-8491-fca107ef6e25"
      },
      "outputs": [
        {
          "output_type": "execute_result",
          "data": {
            "text/plain": [
              "['SalesID',\n",
              " 'MachineID',\n",
              " 'ModelID',\n",
              " 'auctioneerID',\n",
              " 'YearMade',\n",
              " 'MachineHoursCurrentMeter']"
            ]
          },
          "metadata": {},
          "execution_count": 13
        }
      ],
      "source": [
        "cont"
      ]
    },
    {
      "cell_type": "markdown",
      "metadata": {
        "id": "Y4mTNQVwKyTm"
      },
      "source": [
        "List of our categorical variable"
      ]
    },
    {
      "cell_type": "code",
      "execution_count": 14,
      "metadata": {
        "ExecuteTime": {
          "end_time": "2020-11-09T07:22:51.380495Z",
          "start_time": "2020-11-09T07:22:51.374319Z"
        },
        "colab": {
          "base_uri": "https://localhost:8080/"
        },
        "id": "2D2WYDKqKyTm",
        "outputId": "0d570861-3bb5-4c22-b43d-6c232af416da"
      },
      "outputs": [
        {
          "output_type": "execute_result",
          "data": {
            "text/plain": [
              "['datasource',\n",
              " 'UsageBand',\n",
              " 'saledate',\n",
              " 'fiModelDesc',\n",
              " 'fiBaseModel',\n",
              " 'fiSecondaryDesc',\n",
              " 'fiModelSeries',\n",
              " 'fiModelDescriptor',\n",
              " 'ProductSize',\n",
              " 'fiProductClassDesc',\n",
              " 'state',\n",
              " 'ProductGroup',\n",
              " 'ProductGroupDesc',\n",
              " 'Drive_System',\n",
              " 'Enclosure',\n",
              " 'Forks',\n",
              " 'Pad_Type',\n",
              " 'Ride_Control',\n",
              " 'Stick',\n",
              " 'Transmission',\n",
              " 'Turbocharged',\n",
              " 'Blade_Extension',\n",
              " 'Blade_Width',\n",
              " 'Enclosure_Type',\n",
              " 'Engine_Horsepower',\n",
              " 'Hydraulics',\n",
              " 'Pushblock',\n",
              " 'Ripper',\n",
              " 'Scarifier',\n",
              " 'Tip_Control',\n",
              " 'Tire_Size',\n",
              " 'Coupler',\n",
              " 'Coupler_System',\n",
              " 'Grouser_Tracks',\n",
              " 'Hydraulics_Flow',\n",
              " 'Track_Type',\n",
              " 'Undercarriage_Pad_Width',\n",
              " 'Stick_Length',\n",
              " 'Thumb',\n",
              " 'Pattern_Changer',\n",
              " 'Grouser_Type',\n",
              " 'Backhoe_Mounting',\n",
              " 'Blade_Type',\n",
              " 'Travel_Controls',\n",
              " 'Differential_Type',\n",
              " 'Steering_Controls']"
            ]
          },
          "metadata": {},
          "execution_count": 14
        }
      ],
      "source": [
        "cat"
      ]
    },
    {
      "cell_type": "markdown",
      "metadata": {
        "ExecuteTime": {
          "end_time": "2020-11-09T04:54:21.585409Z",
          "start_time": "2020-11-09T04:54:21.583392Z"
        },
        "id": "hDjT2rDOKyTn"
      },
      "source": [
        "### Categorical Variable"
      ]
    },
    {
      "cell_type": "markdown",
      "metadata": {
        "id": "HeCOYCpOKyTn"
      },
      "source": [
        "A categorical variable is a variable that can take on one of a limited, and usually fixed, number of possible values, assigning each individual or other unit of observation to a particular group or nominal category on the basis of some qualitative property. \n",
        "\n",
        "https://en.wikipedia.org/wiki/Categorical_variable"
      ]
    },
    {
      "cell_type": "code",
      "execution_count": 15,
      "metadata": {
        "ExecuteTime": {
          "end_time": "2020-11-09T07:22:51.405717Z",
          "start_time": "2020-11-09T07:22:51.381562Z"
        },
        "colab": {
          "base_uri": "https://localhost:8080/"
        },
        "id": "XYfZ905RKyTn",
        "outputId": "3c77a45f-2dd8-4651-cd2b-9a20784b6b2f"
      },
      "outputs": [
        {
          "output_type": "execute_result",
          "data": {
            "text/plain": [
              "array(['Low', 'High', 'Medium', nan], dtype=object)"
            ]
          },
          "metadata": {},
          "execution_count": 15
        }
      ],
      "source": [
        "dataframe[\"UsageBand\"].unique()"
      ]
    },
    {
      "cell_type": "markdown",
      "metadata": {
        "ExecuteTime": {
          "end_time": "2020-11-09T04:58:02.981517Z",
          "start_time": "2020-11-09T04:58:02.977430Z"
        },
        "id": "Z-_wHplQKyTn"
      },
      "source": [
        "How do we input catgorical variable to NN?\n",
        "\n",
        "* We use categorical embedding. (Refer to last lab. Each category )"
      ]
    },
    {
      "cell_type": "markdown",
      "metadata": {
        "id": "g6UX_Wb0KyTn"
      },
      "source": [
        "We need further strategy on:\n",
        "* How to handle missing data ? In our case stored by pandas as NaNs. We will have a separate category for missing value. "
      ]
    },
    {
      "cell_type": "markdown",
      "metadata": {
        "id": "Cofbr5ZiKyTo"
      },
      "source": [
        "### Continuous Variable"
      ]
    },
    {
      "cell_type": "markdown",
      "metadata": {
        "id": "ypMi0xk_KyTo"
      },
      "source": [
        "A continuous variable is one which can take on an uncountable set of values.\n",
        "\n",
        "For example, a variable over a non-empty range of the real numbers is continuous, if it can take on any value in that range."
      ]
    },
    {
      "cell_type": "markdown",
      "metadata": {
        "id": "wi6Hx5hDKyTo"
      },
      "source": [
        "We need further strategy on:\n",
        " * How to handle missing data? Generally, you will fill missing continous varible with Median value from your sets but you can also use the mean, or a constant value. To help your network you will want to add a boolean columns specifying if the value was missing or not. (Exercise implement this function)\n",
        " \n",
        " * Normalize our input. (This is taken care by most framework like Keras)"
      ]
    },
    {
      "cell_type": "markdown",
      "metadata": {
        "id": "fJu3eOWyKyTo"
      },
      "source": [
        "### How to handle dates? "
      ]
    },
    {
      "cell_type": "markdown",
      "metadata": {
        "id": "_obLbVXSKyTo"
      },
      "source": [
        "When you are working with sales data and you want to grab humman behaviour that is dicted by calendar dates. It may be usufull to split our date across multiple different features. \n",
        "\n",
        "Why?\n",
        "* We go out every second friday of the month\n",
        "* We usualy purchase gift during the second week of the 12th month. (Xmas)\n"
      ]
    },
    {
      "cell_type": "code",
      "execution_count": 16,
      "metadata": {
        "ExecuteTime": {
          "end_time": "2020-11-09T07:22:51.412991Z",
          "start_time": "2020-11-09T07:22:51.406722Z"
        },
        "id": "0P5qxRytKyTo"
      },
      "outputs": [],
      "source": [
        "def make_date(df, date_field):\n",
        "    \"Make sure `df[date_field]` is of the right date type.\"\n",
        "    field_dtype = df[date_field].dtype\n",
        "    if isinstance(field_dtype, pd.core.dtypes.dtypes.DatetimeTZDtype):\n",
        "        field_dtype = np.datetime64\n",
        "    if not np.issubdtype(field_dtype, np.datetime64):\n",
        "        df[date_field] = pd.to_datetime(df[date_field], infer_datetime_format=True)\n",
        "\n",
        "def add_datepart(df, field_name, drop=True, time=False):\n",
        "    \"Helper function that adds columns relevant to a date in the column `field_name` of `df`.\"\n",
        "    #print(df[field_name])\n",
        "    make_date(df, field_name)\n",
        "    field = df[field_name]\n",
        "    #print(field)\n",
        "    attr = ['Year', 'Month', 'Day', 'Dayofweek', 'Dayofyear', 'Is_month_end', 'Is_month_start',\n",
        "            'Is_quarter_end', 'Is_quarter_start', 'Is_year_end', 'Is_year_start']\n",
        "    if time: attr = attr + ['Hour', 'Minute', 'Second']\n",
        "    for n in attr: df[n] = getattr(field.dt, n.lower()) # same as field.dt.year, field.dt.month, ... field.dt.is_year_start\n",
        "    week = field.dt.isocalendar().week if hasattr(field.dt, 'isocalendar') else field.dt.week\n",
        "    df.insert(3, 'Week', week)\n",
        "    mask = ~field.isna()\n",
        "    df['Elapsed'] = np.where(mask,field.values.astype(np.int64) // 10 ** 9,None)\n",
        "    if drop: df.drop(field_name, axis=1, inplace=True)\n",
        "    return df"
      ]
    },
    {
      "cell_type": "code",
      "execution_count": 17,
      "metadata": {
        "ExecuteTime": {
          "end_time": "2020-11-09T07:22:52.152672Z",
          "start_time": "2020-11-09T07:22:51.414097Z"
        },
        "colab": {
          "base_uri": "https://localhost:8080/"
        },
        "id": "wcME4BxXKyTp",
        "outputId": "4b48c57f-e151-455b-cb1e-b274531df628"
      },
      "outputs": [
        {
          "output_type": "stream",
          "name": "stdout",
          "text": [
            "0         11/16/2006 0:00\n",
            "1          3/26/2004 0:00\n",
            "2          2/26/2004 0:00\n",
            "3          5/19/2011 0:00\n",
            "4          7/23/2009 0:00\n",
            "               ...       \n",
            "401120     11/2/2011 0:00\n",
            "401121     11/2/2011 0:00\n",
            "401122     11/2/2011 0:00\n",
            "401123    10/25/2011 0:00\n",
            "401124    10/25/2011 0:00\n",
            "Name: saledate, Length: 401125, dtype: object\n",
            "0        2006-11-16\n",
            "1        2004-03-26\n",
            "2        2004-02-26\n",
            "3        2011-05-19\n",
            "4        2009-07-23\n",
            "            ...    \n",
            "401120   2011-11-02\n",
            "401121   2011-11-02\n",
            "401122   2011-11-02\n",
            "401123   2011-10-25\n",
            "401124   2011-10-25\n",
            "Name: saledate, Length: 401125, dtype: datetime64[ns]\n"
          ]
        }
      ],
      "source": [
        "dataframe = add_datepart(dataframe, 'saledate')"
      ]
    },
    {
      "cell_type": "code",
      "execution_count": 26,
      "metadata": {
        "ExecuteTime": {
          "end_time": "2020-11-09T07:22:52.169399Z",
          "start_time": "2020-11-09T07:22:52.155689Z"
        },
        "colab": {
          "base_uri": "https://localhost:8080/",
          "height": 206
        },
        "id": "Y_qR_VGyKyTp",
        "outputId": "1d49fefc-f60e-4e39-a79f-532f57975d93"
      },
      "outputs": [
        {
          "output_type": "execute_result",
          "data": {
            "text/plain": [
              "   Year  Month  Day  Dayofweek  Dayofyear  Is_month_end  Is_month_start  \\\n",
              "0  2006     11   16          3        320         False           False   \n",
              "1  2004      3   26          4         86         False           False   \n",
              "2  2004      2   26          3         57         False           False   \n",
              "3  2011      5   19          3        139         False           False   \n",
              "4  2009      7   23          3        204         False           False   \n",
              "\n",
              "   Is_quarter_end  Is_quarter_start  Is_year_end  Is_year_start  \n",
              "0           False             False        False          False  \n",
              "1           False             False        False          False  \n",
              "2           False             False        False          False  \n",
              "3           False             False        False          False  \n",
              "4           False             False        False          False  "
            ],
            "text/html": [
              "\n",
              "  <div id=\"df-f2f1818f-59fa-4418-9fcb-cebd4994356f\">\n",
              "    <div class=\"colab-df-container\">\n",
              "      <div>\n",
              "<style scoped>\n",
              "    .dataframe tbody tr th:only-of-type {\n",
              "        vertical-align: middle;\n",
              "    }\n",
              "\n",
              "    .dataframe tbody tr th {\n",
              "        vertical-align: top;\n",
              "    }\n",
              "\n",
              "    .dataframe thead th {\n",
              "        text-align: right;\n",
              "    }\n",
              "</style>\n",
              "<table border=\"1\" class=\"dataframe\">\n",
              "  <thead>\n",
              "    <tr style=\"text-align: right;\">\n",
              "      <th></th>\n",
              "      <th>Year</th>\n",
              "      <th>Month</th>\n",
              "      <th>Day</th>\n",
              "      <th>Dayofweek</th>\n",
              "      <th>Dayofyear</th>\n",
              "      <th>Is_month_end</th>\n",
              "      <th>Is_month_start</th>\n",
              "      <th>Is_quarter_end</th>\n",
              "      <th>Is_quarter_start</th>\n",
              "      <th>Is_year_end</th>\n",
              "      <th>Is_year_start</th>\n",
              "    </tr>\n",
              "  </thead>\n",
              "  <tbody>\n",
              "    <tr>\n",
              "      <th>0</th>\n",
              "      <td>2006</td>\n",
              "      <td>11</td>\n",
              "      <td>16</td>\n",
              "      <td>3</td>\n",
              "      <td>320</td>\n",
              "      <td>False</td>\n",
              "      <td>False</td>\n",
              "      <td>False</td>\n",
              "      <td>False</td>\n",
              "      <td>False</td>\n",
              "      <td>False</td>\n",
              "    </tr>\n",
              "    <tr>\n",
              "      <th>1</th>\n",
              "      <td>2004</td>\n",
              "      <td>3</td>\n",
              "      <td>26</td>\n",
              "      <td>4</td>\n",
              "      <td>86</td>\n",
              "      <td>False</td>\n",
              "      <td>False</td>\n",
              "      <td>False</td>\n",
              "      <td>False</td>\n",
              "      <td>False</td>\n",
              "      <td>False</td>\n",
              "    </tr>\n",
              "    <tr>\n",
              "      <th>2</th>\n",
              "      <td>2004</td>\n",
              "      <td>2</td>\n",
              "      <td>26</td>\n",
              "      <td>3</td>\n",
              "      <td>57</td>\n",
              "      <td>False</td>\n",
              "      <td>False</td>\n",
              "      <td>False</td>\n",
              "      <td>False</td>\n",
              "      <td>False</td>\n",
              "      <td>False</td>\n",
              "    </tr>\n",
              "    <tr>\n",
              "      <th>3</th>\n",
              "      <td>2011</td>\n",
              "      <td>5</td>\n",
              "      <td>19</td>\n",
              "      <td>3</td>\n",
              "      <td>139</td>\n",
              "      <td>False</td>\n",
              "      <td>False</td>\n",
              "      <td>False</td>\n",
              "      <td>False</td>\n",
              "      <td>False</td>\n",
              "      <td>False</td>\n",
              "    </tr>\n",
              "    <tr>\n",
              "      <th>4</th>\n",
              "      <td>2009</td>\n",
              "      <td>7</td>\n",
              "      <td>23</td>\n",
              "      <td>3</td>\n",
              "      <td>204</td>\n",
              "      <td>False</td>\n",
              "      <td>False</td>\n",
              "      <td>False</td>\n",
              "      <td>False</td>\n",
              "      <td>False</td>\n",
              "      <td>False</td>\n",
              "    </tr>\n",
              "  </tbody>\n",
              "</table>\n",
              "</div>\n",
              "      <button class=\"colab-df-convert\" onclick=\"convertToInteractive('df-f2f1818f-59fa-4418-9fcb-cebd4994356f')\"\n",
              "              title=\"Convert this dataframe to an interactive table.\"\n",
              "              style=\"display:none;\">\n",
              "        \n",
              "  <svg xmlns=\"http://www.w3.org/2000/svg\" height=\"24px\"viewBox=\"0 0 24 24\"\n",
              "       width=\"24px\">\n",
              "    <path d=\"M0 0h24v24H0V0z\" fill=\"none\"/>\n",
              "    <path d=\"M18.56 5.44l.94 2.06.94-2.06 2.06-.94-2.06-.94-.94-2.06-.94 2.06-2.06.94zm-11 1L8.5 8.5l.94-2.06 2.06-.94-2.06-.94L8.5 2.5l-.94 2.06-2.06.94zm10 10l.94 2.06.94-2.06 2.06-.94-2.06-.94-.94-2.06-.94 2.06-2.06.94z\"/><path d=\"M17.41 7.96l-1.37-1.37c-.4-.4-.92-.59-1.43-.59-.52 0-1.04.2-1.43.59L10.3 9.45l-7.72 7.72c-.78.78-.78 2.05 0 2.83L4 21.41c.39.39.9.59 1.41.59.51 0 1.02-.2 1.41-.59l7.78-7.78 2.81-2.81c.8-.78.8-2.07 0-2.86zM5.41 20L4 18.59l7.72-7.72 1.47 1.35L5.41 20z\"/>\n",
              "  </svg>\n",
              "      </button>\n",
              "      \n",
              "  <style>\n",
              "    .colab-df-container {\n",
              "      display:flex;\n",
              "      flex-wrap:wrap;\n",
              "      gap: 12px;\n",
              "    }\n",
              "\n",
              "    .colab-df-convert {\n",
              "      background-color: #E8F0FE;\n",
              "      border: none;\n",
              "      border-radius: 50%;\n",
              "      cursor: pointer;\n",
              "      display: none;\n",
              "      fill: #1967D2;\n",
              "      height: 32px;\n",
              "      padding: 0 0 0 0;\n",
              "      width: 32px;\n",
              "    }\n",
              "\n",
              "    .colab-df-convert:hover {\n",
              "      background-color: #E2EBFA;\n",
              "      box-shadow: 0px 1px 2px rgba(60, 64, 67, 0.3), 0px 1px 3px 1px rgba(60, 64, 67, 0.15);\n",
              "      fill: #174EA6;\n",
              "    }\n",
              "\n",
              "    [theme=dark] .colab-df-convert {\n",
              "      background-color: #3B4455;\n",
              "      fill: #D2E3FC;\n",
              "    }\n",
              "\n",
              "    [theme=dark] .colab-df-convert:hover {\n",
              "      background-color: #434B5C;\n",
              "      box-shadow: 0px 1px 3px 1px rgba(0, 0, 0, 0.15);\n",
              "      filter: drop-shadow(0px 1px 2px rgba(0, 0, 0, 0.3));\n",
              "      fill: #FFFFFF;\n",
              "    }\n",
              "  </style>\n",
              "\n",
              "      <script>\n",
              "        const buttonEl =\n",
              "          document.querySelector('#df-f2f1818f-59fa-4418-9fcb-cebd4994356f button.colab-df-convert');\n",
              "        buttonEl.style.display =\n",
              "          google.colab.kernel.accessAllowed ? 'block' : 'none';\n",
              "\n",
              "        async function convertToInteractive(key) {\n",
              "          const element = document.querySelector('#df-f2f1818f-59fa-4418-9fcb-cebd4994356f');\n",
              "          const dataTable =\n",
              "            await google.colab.kernel.invokeFunction('convertToInteractive',\n",
              "                                                     [key], {});\n",
              "          if (!dataTable) return;\n",
              "\n",
              "          const docLinkHtml = 'Like what you see? Visit the ' +\n",
              "            '<a target=\"_blank\" href=https://colab.research.google.com/notebooks/data_table.ipynb>data table notebook</a>'\n",
              "            + ' to learn more about interactive tables.';\n",
              "          element.innerHTML = '';\n",
              "          dataTable['output_type'] = 'display_data';\n",
              "          await google.colab.output.renderOutput(dataTable, element);\n",
              "          const docLink = document.createElement('div');\n",
              "          docLink.innerHTML = docLinkHtml;\n",
              "          element.appendChild(docLink);\n",
              "        }\n",
              "      </script>\n",
              "    </div>\n",
              "  </div>\n",
              "  "
            ]
          },
          "metadata": {},
          "execution_count": 26
        }
      ],
      "source": [
        "dataframe[['Year', 'Month', 'Day', 'Dayofweek', 'Dayofyear', 'Is_month_end', 'Is_month_start',\n",
        "            'Is_quarter_end', 'Is_quarter_start', 'Is_year_end', 'Is_year_start']].head()"
      ]
    },
    {
      "cell_type": "markdown",
      "metadata": {
        "id": "sp0NCbswyEqs"
      },
      "source": [
        "## Preprocess, Split the dataframe into train, validation, and test"
      ]
    },
    {
      "cell_type": "code",
      "execution_count": 27,
      "metadata": {
        "ExecuteTime": {
          "end_time": "2020-11-09T07:22:52.206582Z",
          "start_time": "2020-11-09T07:22:52.170862Z"
        },
        "id": "z2Epd9u_KyTp"
      },
      "outputs": [],
      "source": [
        "cont, cat = cont_cat_split(dataframe, dep_var=dep_var)"
      ]
    },
    {
      "cell_type": "code",
      "execution_count": 28,
      "metadata": {
        "ExecuteTime": {
          "end_time": "2020-11-09T07:22:55.407082Z",
          "start_time": "2020-11-09T07:22:52.207528Z"
        },
        "id": "SOSQxk3UKyTp"
      },
      "outputs": [],
      "source": [
        "for c in cat:\n",
        "    dataframe[c] = dataframe[c].astype(\"category\")"
      ]
    },
    {
      "cell_type": "code",
      "execution_count": 29,
      "metadata": {
        "ExecuteTime": {
          "end_time": "2020-11-09T07:22:55.412640Z",
          "start_time": "2020-11-09T07:22:55.408165Z"
        },
        "colab": {
          "base_uri": "https://localhost:8080/"
        },
        "id": "mOc3WxYpKyTq",
        "outputId": "ab45e392-f63a-4ad5-f430-0603f29113fa"
      },
      "outputs": [
        {
          "output_type": "execute_result",
          "data": {
            "text/plain": [
              "0                Alabama\n",
              "1         North Carolina\n",
              "2               New York\n",
              "3                  Texas\n",
              "4               New York\n",
              "               ...      \n",
              "401120          Maryland\n",
              "401121          Maryland\n",
              "401122          Maryland\n",
              "401123           Florida\n",
              "401124           Florida\n",
              "Name: state, Length: 401125, dtype: category\n",
              "Categories (53, object): ['Alabama', 'Alaska', 'Arizona', 'Arkansas', ..., 'Washington DC',\n",
              "                          'West Virginia', 'Wisconsin', 'Wyoming']"
            ]
          },
          "metadata": {},
          "execution_count": 29
        }
      ],
      "source": [
        "dataframe[cat[10]]"
      ]
    },
    {
      "cell_type": "code",
      "execution_count": 30,
      "metadata": {
        "ExecuteTime": {
          "end_time": "2020-11-09T07:22:55.435916Z",
          "start_time": "2020-11-09T07:22:55.413474Z"
        },
        "id": "_E5L2sLuKyTq"
      },
      "outputs": [],
      "source": [
        "for c in cont:\n",
        "    dataframe[c] = dataframe[c].astype(np.float32)"
      ]
    },
    {
      "cell_type": "code",
      "execution_count": 31,
      "metadata": {
        "ExecuteTime": {
          "end_time": "2020-11-09T07:22:55.440651Z",
          "start_time": "2020-11-09T07:22:55.437010Z"
        },
        "colab": {
          "base_uri": "https://localhost:8080/"
        },
        "id": "f-xi36dKKyTq",
        "outputId": "47e16b7d-0558-4280-95df-552e24490316"
      },
      "outputs": [
        {
          "output_type": "execute_result",
          "data": {
            "text/plain": [
              "0           68.0\n",
              "1         4640.0\n",
              "2         2838.0\n",
              "3         3486.0\n",
              "4          722.0\n",
              "           ...  \n",
              "401120       NaN\n",
              "401121       NaN\n",
              "401122       NaN\n",
              "401123       NaN\n",
              "401124       NaN\n",
              "Name: MachineHoursCurrentMeter, Length: 401125, dtype: float32"
            ]
          },
          "metadata": {},
          "execution_count": 31
        }
      ],
      "source": [
        "dataframe[cont[5]]"
      ]
    },
    {
      "cell_type": "markdown",
      "metadata": {
        "ExecuteTime": {
          "end_time": "2020-11-09T05:52:22.950952Z",
          "start_time": "2020-11-09T05:52:22.948788Z"
        },
        "id": "xwAHq8t7KyTq"
      },
      "source": [
        "# Send it to your NN"
      ]
    },
    {
      "cell_type": "markdown",
      "metadata": {
        "ExecuteTime": {
          "end_time": "2020-11-09T07:19:05.479690Z",
          "start_time": "2020-11-09T07:19:05.476316Z"
        },
        "id": "ILYI4iZMKyTr"
      },
      "source": [
        "Build a NN using Categorical embedding."
      ]
    },
    {
      "cell_type": "markdown",
      "metadata": {
        "id": "M-7YNARyKyTr"
      },
      "source": [
        "# Workflow summary\n",
        "\n",
        "* Explore the data\n",
        "* Preprocess the data (Handle missing value, Categorize, Normalize)\n",
        "* Train Random Forest or XgBoost\n",
        "* Train NN\n",
        "* Compare results\n",
        "* Repeat"
      ]
    },
    {
      "cell_type": "markdown",
      "metadata": {
        "id": "-utgW7XVKyTs"
      },
      "source": [
        "# Resources\n",
        "\n",
        "* https://www.tensorflow.org/tutorials/structured_data/preprocessing_layers\n",
        "* https://towardsdatascience.com/the-unreasonable-ineffectiveness-of-deep-learning-on-tabular-data-fd784ea29c33\n",
        "* https://towardsdatascience.com/the-right-way-to-use-deep-learning-for-tabular-data-entity-embedding-b5c4aaf1423a\n"
      ]
    },
    {
      "cell_type": "code",
      "execution_count": 31,
      "metadata": {
        "id": "uGBVyMp0KyTs"
      },
      "outputs": [],
      "source": []
    }
  ],
  "metadata": {
    "colab": {
      "provenance": []
    },
    "hide_input": false,
    "kernelspec": {
      "display_name": "Python 3",
      "language": "python",
      "name": "python3"
    },
    "language_info": {
      "codemirror_mode": {
        "name": "ipython",
        "version": 3
      },
      "file_extension": ".py",
      "mimetype": "text/x-python",
      "name": "python",
      "nbconvert_exporter": "python",
      "pygments_lexer": "ipython3",
      "version": "3.7.7"
    },
    "latex_envs": {
      "LaTeX_envs_menu_present": true,
      "autoclose": false,
      "autocomplete": true,
      "bibliofile": "biblio.bib",
      "cite_by": "apalike",
      "current_citInitial": 1,
      "eqLabelWithNumbers": true,
      "eqNumInitial": 1,
      "hotkeys": {
        "equation": "Ctrl-E",
        "itemize": "Ctrl-I"
      },
      "labels_anchors": false,
      "latex_user_defs": false,
      "report_style_numbering": false,
      "user_envs_cfg": false
    },
    "toc": {
      "base_numbering": 1,
      "nav_menu": {},
      "number_sections": true,
      "sideBar": true,
      "skip_h1_title": false,
      "title_cell": "Table of Contents",
      "title_sidebar": "Contents",
      "toc_cell": false,
      "toc_position": {},
      "toc_section_display": true,
      "toc_window_display": false
    },
    "varInspector": {
      "cols": {
        "lenName": 16,
        "lenType": 16,
        "lenVar": 40
      },
      "kernels_config": {
        "python": {
          "delete_cmd_postfix": "",
          "delete_cmd_prefix": "del ",
          "library": "var_list.py",
          "varRefreshCmd": "print(var_dic_list())"
        },
        "r": {
          "delete_cmd_postfix": ") ",
          "delete_cmd_prefix": "rm(",
          "library": "var_list.r",
          "varRefreshCmd": "cat(var_dic_list()) "
        }
      },
      "types_to_exclude": [
        "module",
        "function",
        "builtin_function_or_method",
        "instance",
        "_Feature"
      ],
      "window_display": false
    }
  },
  "nbformat": 4,
  "nbformat_minor": 0
}
