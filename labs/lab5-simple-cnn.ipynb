{
 "cells": [
  {
   "cell_type": "markdown",
   "metadata": {},
   "source": [
    "# Lab 5: Simple Convolutional Networks"
   ]
  },
  {
   "cell_type": "markdown",
   "metadata": {},
   "source": [
    "Na dnešnom cvičení vytvoríme jednoduchú konvolučnú neurónovú sieť, ktorú natrénujeme na rozpoznávanie číslic z datasetu MNIST. Kostru riešenia nájdete [tu](https://github.com/ianmagyar/dl-course/blob/master/labs/sources/lab5.py)."
   ]
  },
  {
   "cell_type": "markdown",
   "metadata": {},
   "source": [
    "## 1. Načítanie potrebných knižníc\n",
    "\n",
    "Hneď na začiatku riešenia naimportujeme všetky potrebné knižnice a nástroje, triedy a funkcie, ktoré použijeme na dnešnom cvičení.\n",
    "\n",
    "Väčšinu týchto modulov by ste už mali poznať z predošlých cvičení. Novinkou sú triedy vrstiev `Conv2D`, `AveragePooling2D` a `Flatten`, ktoré reprezentujú konvolúciu, pooling a konkatenáciu.\n",
    "\n",
    "Ďalej naimportujeme dataset MNIST priamo cez knižnicu Keras a pre transformovanie výstupu na vektorový tvar použijeme funkciu `to_categorical`.\n",
    "\n",
    "Posledný import `from sklearn.metrics import confusion_matrix` potrebujeme pre analýzu presnosti nášho modelu pomocou kontingenčnej tabuľky."
   ]
  },
  {
   "cell_type": "code",
   "execution_count": null,
   "metadata": {
    "collapsed": true
   },
   "outputs": [],
   "source": [
    "from keras.models import Sequential\n",
    "from keras.layers import Dense, Flatten\n",
    "from keras.layers import Conv2D, AveragePooling2D\n",
    "from keras.optimizers import Adam\n",
    "from keras.losses import mean_squared_error\n",
    "\n",
    "from keras.datasets import mnist\n",
    "from keras.utils import to_categorical\n",
    "\n",
    "from sklearn.metrics import confusion_matrix"
   ]
  },
  {
   "cell_type": "markdown",
   "metadata": {},
   "source": [
    "## 2. Príprava datasetu\n",
    "\n",
    "Ďalší krok je načítanie databázy pomocou knižnice Keras. Ak tento dataset ešte nemáte stiahnutý, tento krok môže potrvať niekoľko minút."
   ]
  },
  {
   "cell_type": "code",
   "execution_count": null,
   "metadata": {
    "collapsed": true
   },
   "outputs": [],
   "source": [
    "(x_train, y_train), (x_test, y_test) = mnist.load_data()\n",
    "img_height, img_width = 28, 28"
   ]
  },
  {
   "cell_type": "markdown",
   "metadata": {},
   "source": [
    "Vašou úlohou je teraz načítané datasety opraviť tak, aby boli použiteľné pre našu sieť. Transformujte teda vstupné množiny do tvaru:\n",
    "1. počet záznamov v množine\n",
    "2. výška obrazu\n",
    "3. šírka obrazu\n",
    "4. 1 (kvôli jednoduchosti práce s datasetom)\n",
    "\n",
    "Následne nastavte tvar vstupu pre sieť (premenná `input_shape`)."
   ]
  },
  {
   "cell_type": "code",
   "execution_count": null,
   "metadata": {
    "collapsed": true
   },
   "outputs": [],
   "source": [
    "x_train = x_train.reshape(# TODO)\n",
    "x_test = x_test.reshape(# TODO)\n",
    "input_shape = (# TODO)"
   ]
  },
  {
   "cell_type": "markdown",
   "metadata": {},
   "source": [
    "Keďže výstup siete je vektorová reprezentácia labelu, potrebujeme labely premeniť na vektory. Na to použijeme funkciu `to_categorical`:"
   ]
  },
  {
   "cell_type": "code",
   "execution_count": null,
   "metadata": {
    "collapsed": true
   },
   "outputs": [],
   "source": [
    "y_train = to_categorical(y_train)\n",
    "y_test = to_categorical(y_test)"
   ]
  },
  {
   "cell_type": "markdown",
   "metadata": {},
   "source": [
    "## 3. Definícia modelu\n",
    "\n",
    "V kóde máte pripravený sekvenčný model a teraz potrebujete pridať do neho vrstvy. Pri definícii siete použite štruktúru zobrazenú na obrázku (pre kontrolu správnosti topológie zavolajte funkciu `model.summary()`; model by mal mať 3898 parametrov):\n",
    "\n",
    "![](figures/lab5-cnn-structure.jpg)"
   ]
  },
  {
   "cell_type": "code",
   "execution_count": null,
   "metadata": {
    "collapsed": true
   },
   "outputs": [],
   "source": [
    "model = Sequential()\n",
    "# TODO add layers\n",
    "\n",
    "model.summary()"
   ]
  },
  {
   "cell_type": "markdown",
   "metadata": {},
   "source": [
    "Ak máte model definovaný, môžete ho skompilovať. Použite chybovú funkciu *mean squared error*, optimizátor *Adam* a ako metriku presnosť modelu (*accuracy*)."
   ]
  },
  {
   "cell_type": "code",
   "execution_count": null,
   "metadata": {
    "collapsed": true
   },
   "outputs": [],
   "source": [
    "model.compile(# TODO)"
   ]
  },
  {
   "cell_type": "markdown",
   "metadata": {},
   "source": [
    "## 4. Trénovanie modelu\n",
    "\n",
    "Ak ste spokojní s modelom, môžete ho natrénovať na trénovaciu množinu. Nastavte teda parametre veľkosť batchu, počet epoch a pridajte vstup a výstup z trénovacej množiny."
   ]
  },
  {
   "cell_type": "code",
   "execution_count": null,
   "metadata": {
    "collapsed": true
   },
   "outputs": [],
   "source": [
    "BATCH_SIZE = 128\n",
    "EPOCHS = 1\n",
    "model.fit(# TODO)"
   ]
  },
  {
   "cell_type": "markdown",
   "metadata": {},
   "source": [
    "## 5. Testovanie modelu\n",
    "\n",
    "Pre testovanie a vyhodnotenie modelu použijeme kontingenčnú tabuľku. Potrebné je získať skutočný výstup siete pre testovaciu množinu a následne výsledky porovnať s očakávaným výsledkom."
   ]
  },
  {
   "cell_type": "code",
   "execution_count": null,
   "metadata": {
    "collapsed": true
   },
   "outputs": [],
   "source": [
    "y_pred = model.predict(x_test)\n",
    "matrix = confusion_matrix(y_test.argmax(axis=1), y_pred.argmax(axis=1))\n",
    "print(matrix)"
   ]
  }
 ],
 "metadata": {
  "kernelspec": {
   "display_name": "Python 3",
   "language": "python",
   "name": "python3"
  },
  "language_info": {
   "codemirror_mode": {
    "name": "ipython",
    "version": 3
   },
   "file_extension": ".py",
   "mimetype": "text/x-python",
   "name": "python",
   "nbconvert_exporter": "python",
   "pygments_lexer": "ipython3",
   "version": "3.6.5"
  }
 },
 "nbformat": 4,
 "nbformat_minor": 2
}
