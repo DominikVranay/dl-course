{
 "cells": [
  {
   "cell_type": "markdown",
   "metadata": {},
   "source": [
    "# Lab 10: Autoencodery pomocou konvolúcie"
   ]
  },
  {
   "cell_type": "markdown",
   "metadata": {},
   "source": [
    "Na minulom cvičení ste vytvorili niekoľko autoencoderov, tie ale obsahovali iba tradičné plne prepojené vrstvy. Cieľom tohto cvičenia je definovať a natrénovať autoencoder pomoocu konvolučných vrstiev. Kostru riešenia nájdete [na tomto odkaze](https://github.com/ianmagyar/dl-course/blob/master/labs/sources/lab10.py)."
   ]
  },
  {
   "cell_type": "markdown",
   "metadata": {},
   "source": [
    "## 1. Načítanie potrebných knižníc\n",
    "\n",
    "V riešení využijeme najmä známe knižnice a triedy. Novinkou pre nás je vrstva `UpSampling2D`, ktorý slúži na \"dekonvolúciu\", teda o rozšírenie dimenzií obrazu."
   ]
  },
  {
   "cell_type": "code",
   "execution_count": null,
   "metadata": {
    "collapsed": true
   },
   "outputs": [],
   "source": [
    "from keras.layers import Input, Conv2D, MaxPooling2D, UpSampling2D\n",
    "from keras.models import Model\n",
    "from keras.datasets import mnist\n",
    "import numpy as np\n",
    "import matplotlib.pyplot as plt"
   ]
  },
  {
   "cell_type": "markdown",
   "metadata": {},
   "source": [
    "## 2. Vizualizácia výsledkov\n",
    "\n",
    "Tak ako minulý týždeň, aj tento týždeň chceme otestovať fungovanie nášho autoencodera a porovnať rekonštruovaný obraz s originálom. Na tento účel sme zadefinovali funkciu `plot_results`, ktorý zobrazí ukážkové vstupy a výstupy autoencodera."
   ]
  },
  {
   "cell_type": "code",
   "execution_count": null,
   "metadata": {
    "collapsed": true
   },
   "outputs": [],
   "source": [
    "def plot_results(x_test, decoded_imgs, n=10):\n",
    "    plt.figure(figsize=(40, 4))\n",
    "    for i in range(n):\n",
    "        # display original\n",
    "        ax = plt.subplot(3, n, i + 1)\n",
    "        plt.imshow(x_test[i].reshape(28, 28))\n",
    "        plt.gray()\n",
    "        ax.get_xaxis().set_visible(False)\n",
    "        ax.get_yaxis().set_visible(False)\n",
    "\n",
    "        # display reconstruction\n",
    "        ax = plt.subplot(3, n, i + 1 + n * 2)\n",
    "        plt.imshow(decoded_imgs[i].reshape(28, 28))\n",
    "        plt.gray()\n",
    "        ax.get_xaxis().set_visible(False)\n",
    "        ax.get_yaxis().set_visible(False)\n",
    "    plt.show()"
   ]
  },
  {
   "cell_type": "markdown",
   "metadata": {},
   "source": [
    "## 3. Príprava údajov\n",
    "\n",
    "Ďalším krokom v riešení je úprava údajov z datasetu MNIST tak, aby sme ich vedeli použiť pre našu sieť. Tak ako aj minulý týždeň, najprv hodnoty pretypujeme na float hodnoty a normalizujeme ich na interval 0 až 1. Labely z datasetu stále nepotrebujeme, použijeme iba vstupné hodnoty.\n",
    "\n",
    "Ďalej potrebujeme trénovaciu aj testovaciu množinu upraviť do tvaru, s ktorým vie naša sieť pracovať. Keďže samotný dataset už obsahuje fotky s rozmerom *28x28*, nepotrebujeme vykonať veľké zmeny, dataset iba rozšíreme o jednu dimenziu."
   ]
  },
  {
   "cell_type": "code",
   "execution_count": null,
   "metadata": {
    "collapsed": true
   },
   "outputs": [],
   "source": [
    "x_train = # TODO: make type float32, normalize to interval 0 to 1\n",
    "x_test = # TODO: make type float32, normalize to interval 0 to 1\n",
    "x_train = # TODO: reshape\n",
    "x_test = # TODO: reshape"
   ]
  },
  {
   "cell_type": "markdown",
   "metadata": {},
   "source": [
    "## 4. Definícia autoencodera\n",
    "\n",
    "V ďalšom kroku zadefinujeme náš autoencoder. Vstupná vrstva je definovaná trénovacou množinou, ale okrem toho môžete navrhnúť ľubovoľnú topológiu. Kostra riešenia je ale napísaná pre nasledujúcu štruktúru, s kernelom *3x3*:"
   ]
  },
  {
   "cell_type": "markdown",
   "metadata": {},
   "source": [
    "_________________________________________________________________\n",
    "Layer (type)                 Output Shape              Param #   \n",
    "_________________________________________________________________\n",
    "input_1 (InputLayer)         (None, 28, 28, 1)         0         \n",
    "_________________________________________________________________\n",
    "conv2d_1 (Conv2D)            (None, 28, 28, 16)        160       \n",
    "_________________________________________________________________\n",
    "max_pooling2d_1 (MaxPooling2 (None, 14, 14, 16)        0         \n",
    "_________________________________________________________________\n",
    "conv2d_2 (Conv2D)            (None, 14, 14, 8)         1160      \n",
    "_________________________________________________________________\n",
    "max_pooling2d_2 (MaxPooling2 (None, 7, 7, 8)           0         \n",
    "_________________________________________________________________\n",
    "conv2d_3 (Conv2D)            (None, 7, 7, 8)           584       \n",
    "_________________________________________________________________\n",
    "max_pooling2d_3 (MaxPooling2 (None, 4, 4, 8)           0         \n",
    "_________________________________________________________________\n",
    "conv2d_4 (Conv2D)            (None, 4, 4, 8)           584       \n",
    "_________________________________________________________________\n",
    "up_sampling2d_1 (UpSampling2 (None, 8, 8, 8)           0         \n",
    "_________________________________________________________________\n",
    "conv2d_5 (Conv2D)            (None, 8, 8, 8)           584       \n",
    "_________________________________________________________________\n",
    "up_sampling2d_2 (UpSampling2 (None, 16, 16, 8)         0         \n",
    "_________________________________________________________________\n",
    "conv2d_6 (Conv2D)            (None, 14, 14, 16)        1168      \n",
    "_________________________________________________________________\n",
    "up_sampling2d_3 (UpSampling2 (None, 28, 28, 16)        0         \n",
    "_________________________________________________________________\n",
    "conv2d_7 (Conv2D)            (None, 28, 28, 1)         145       \n",
    "_________________________________________________________________\n",
    "Total params: 4,385\n",
    "Trainable params: 4,385\n",
    "Non-trainable params: 0"
   ]
  },
  {
   "cell_type": "code",
   "execution_count": null,
   "metadata": {
    "collapsed": true
   },
   "outputs": [],
   "source": [
    "input_img = # define input layer\n",
    "\n",
    "encoded_1 = # define first convolution, activation relu, padding same\n",
    "encoded_2 = # define max pooling layer, padding same\n",
    "encoded_3 = # define second convolution, activation relu, padding same\n",
    "encoded_4 = # define max pooling layer, padding same\n",
    "encoded_5 = # define third convolution, activation relu, padding same\n",
    "encoded = # define max pooling layer, padding same\n",
    "\n",
    "decoded_1 = # define first decoding convolution, activation relu, padding same\n",
    "decoded_2 = # define first upsampling layer\n",
    "decoded_3 = # define second decoding convolution, activation relu, padding same\n",
    "decoded_4 = # define second upsampling layer\n",
    "decoded_5 = # define third decoding convolution, activation relu\n",
    "decoded_6 = # define third upsampling layer\n",
    "decoded = # define final decoding convolution, activation sigmoid, padding same\n",
    "\n",
    "autoencoder = Model(input_img, decoded)"
   ]
  },
  {
   "cell_type": "markdown",
   "metadata": {},
   "source": [
    "## 5. Trénovanie a testovanie modelu\n",
    "\n",
    "Keď už máte definovanú sieť, nezostáva nič iné len sieť natrénovať a otestovať. Keďže trénovanie môže trvať dlhší čas, našu sieť otestujeme po každej epoche, práve preto zadefinujeme cyklus, ktorý v každej iterácii vykoná iba jednu epochu a následne zobrazí ukážkové vstupy a výstupy pomocou volania funkciue `plot_results`.\n",
    "\n",
    "Vo funkcii `fit` nastavte nasledujúce parametre:\n",
    "* input - vstup autoencodera\n",
    "* output - očakávaný výstup autoencodera\n",
    "* epochs - 1\n",
    "* batch_size - napr. 128\n",
    "* shuffle - nastavte na True pre náhodné poradie v trénovacej množine\n",
    "* verbose - nastavte na 1"
   ]
  },
  {
   "cell_type": "code",
   "execution_count": null,
   "metadata": {
    "collapsed": true
   },
   "outputs": [],
   "source": [
    "autoencoder.compile(# optimizer adadelta, loss function binary_crossentropy\n",
    "    )\n",
    "\n",
    "EPOCH_NO = 25\n",
    "for x in range(EPOCH_NO):\n",
    "    autoencoder.fit(# define parameters\n",
    "        )\n",
    "\n",
    "    decoded_imgs = autoencoder.predict(x_test)\n",
    "\n",
    "    plot_results(x_test, decoded_imgs)"
   ]
  }
 ],
 "metadata": {
  "kernelspec": {
   "display_name": "Python 3",
   "language": "python",
   "name": "python3"
  },
  "language_info": {
   "codemirror_mode": {
    "name": "ipython",
    "version": 3
   },
   "file_extension": ".py",
   "mimetype": "text/x-python",
   "name": "python",
   "nbconvert_exporter": "python",
   "pygments_lexer": "ipython3",
   "version": "3.6.5"
  }
 },
 "nbformat": 4,
 "nbformat_minor": 2
}
