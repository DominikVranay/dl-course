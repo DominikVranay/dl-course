{
 "cells": [
  {
   "cell_type": "markdown",
   "metadata": {},
   "source": [
    "# Lab 9: Úvod do autoencoderov"
   ]
  },
  {
   "cell_type": "markdown",
   "metadata": {},
   "source": [
    "Na dnešnom cvičení sa oboznámime s novým typom neurónových sietí - autoencodermi. Autoencodery sú neurónové siete, ktoré slúžia na kompresiu údajov, avšak oproti tradičným metódam kompresie ich netreba vopred naprogramovať. Ďalšou ich vlastnosťou že sú špecificky určené na kompresiu údajov podobných ako dáta, na ktorých bola sieť natrénovaná. Podobne ako ďalšie metódy kompresie (napr. mp3, jpeg), aj autoencodery majú stratovú kompresiu.\n",
    "\n",
    "Z topologického hľadiska sú autoencodery zvyčajne symetrické (síce nie je to nevyhnutné, v praxi takéto siete sa jednoduchšie trénujú). Cieľom autoencoderov je kopírovať vstup na výstupe tak, že skryté vrstvy majú menej neurónov ako vstup, resp. výstup. Autoencodery teda majú dve časti, prvá (encoder) má za úlohu skomprimovať údaje, kým druhá časť (decoder) reprodukuje vstup zo zakódovaného tvaru.\n",
    "\n",
    "![](figures/lab9-autoencoder.png)\n",
    "\n",
    "Dnes si vytvoríte dva jednoduché autoencodery pomocou knižnice Keras, zatiaľ bez konvolúcie. Kostru riešenia nájdete [tu](https://github.com/ianmagyar/dl-course/blob/master/labs/sources/lab9.py)."
   ]
  },
  {
   "cell_type": "markdown",
   "metadata": {},
   "source": [
    "## 1. Načítanie potrebných knižníc\n",
    "\n",
    "V riešení využijeme už známe knižnice `keras`, `numpy` a `matplotlib` pre vizualizáciu fungovania siete:"
   ]
  },
  {
   "cell_type": "code",
   "execution_count": null,
   "metadata": {
    "collapsed": true
   },
   "outputs": [],
   "source": [
    "from keras.layers import Input, Dense\n",
    "from keras.models import Model\n",
    "from keras.datasets import mnist\n",
    "import matplotlib.pyplot as plt\n",
    "import numpy as np"
   ]
  },
  {
   "cell_type": "markdown",
   "metadata": {},
   "source": [
    "## 2. Vizualizácia výsledkov\n",
    "\n",
    "V kóde máte pripravenú funkciu `plot_results`, ktorá slúži na vizualizáciu fungovania siete. Pomocou knižnice `matplotlib` zobrazíme niekoľko ukážkových vstupov, ich zakódovaný tvar a rekonštruovaný obraz."
   ]
  },
  {
   "cell_type": "code",
   "execution_count": null,
   "metadata": {
    "collapsed": true
   },
   "outputs": [],
   "source": [
    "def plot_results(x_test, encoded_imgs, decoded_imgs, n=10):\n",
    "    plt.figure(figsize=(40, 4))\n",
    "    for i in range(n):\n",
    "        # display original\n",
    "        ax = plt.subplot(3, n, i + 1)\n",
    "        plt.imshow(x_test[i].reshape(28, 28))\n",
    "        plt.gray()\n",
    "        ax.get_xaxis().set_visible(False)\n",
    "        ax.get_yaxis().set_visible(False)\n",
    "\n",
    "        # display encoded\n",
    "        ax = plt.subplot(3, n, i + 1 + n)\n",
    "        plt.imshow(encoded_imgs[i].reshape(8, 4))\n",
    "        plt.gray()\n",
    "        ax.get_xaxis().set_visible(False)\n",
    "        ax.get_yaxis().set_visible(False)\n",
    "\n",
    "        # display reconstruction\n",
    "        ax = plt.subplot(3, n, i + 1 + n * 2)\n",
    "        plt.imshow(decoded_imgs[i].reshape(28, 28))\n",
    "        plt.gray()\n",
    "        ax.get_xaxis().set_visible(False)\n",
    "        ax.get_yaxis().set_visible(False)\n",
    "    plt.show()"
   ]
  },
  {
   "cell_type": "markdown",
   "metadata": {},
   "source": [
    "## 3. Príprava údajov\n",
    "\n",
    "Rovnako ako pri konvolučnej sieti, aj dnes použijeme dataset číslic MNIST, keďže ale nepoužijeme konvolúciu, tieto obrázky potrebujeme reprezentovať ako jedrozmerné vektory. Pred tým ale pixely normalizujeme, t.j. pretypujeme ich na numpyovský float a hodnoty od 0 po 255 namapujeme do intervalu 0 až 1.\n",
    "\n",
    "Všimnite si, že z datasetu nenačítame labely (nahradíme ich znakom `_`). Dôvodom je, že autoencodery by mali mať na výstupe rovnakú hodnotu ako na vstupe, teda stačia nám vstupné údaje z datasetu."
   ]
  },
  {
   "cell_type": "code",
   "execution_count": null,
   "metadata": {
    "collapsed": true
   },
   "outputs": [],
   "source": [
    "(mnist_train, _), (mnist_test, _) = mnist.load_data()\n",
    "\n",
    "x_train = # TODO: normalize to range 0 to 1\n",
    "x_test = # TODO: normalize to range 0 to 1\n",
    "x_train = # TODO: reshape to a list of one-dimensional vectors\n",
    "x_test = # TODO: reshape to a list of one-dimensional vectors"
   ]
  },
  {
   "cell_type": "markdown",
   "metadata": {},
   "source": [
    "## 4. Shallow autoencoder\n",
    "\n",
    "V ďalšom kroku zadefinujete najjednoduchší možní autoencoder: autoencoder s jednou skrytou vsrtvou.\n",
    "\n",
    "### 4.1. Definícia vrstiev\n",
    "Keďže vrstvy chceme využit niekoľkokrát, použijeme iný štýl definície ako ste na to zvyknutí. Namiesto toho, aby sme najprv vytvorili model a postupne sme do neho pridávali vrstvy teraz najprv zadefinujeme vrstvy, ktorých spojíme pomocou parametrov v tvare:"
   ]
  },
  {
   "cell_type": "code",
   "execution_count": null,
   "metadata": {
    "collapsed": true
   },
   "outputs": [],
   "source": [
    "dalsia_vrstva = Typ_vrstvy(parametre)(predosla_vrstva)"
   ]
  },
  {
   "cell_type": "code",
   "execution_count": null,
   "metadata": {
    "collapsed": true
   },
   "outputs": [],
   "source": [
    "input_img = # TODO: define input layer\n",
    "encoded = # TODO: define hidden layer\n",
    "decoded = # TODO: define output layer"
   ]
  },
  {
   "cell_type": "markdown",
   "metadata": {},
   "source": [
    "### 4.2. Definícia modelov\n",
    "Ak už máte vrstvy zadefinované, môžeme pristúpiť k definícii modelov. V tomto kroku zadefinujeme tri modely: celkový autoencoder, encoder, a decoder. Modely autoencodera a encodera viete zadefinovať na základe ich vstupu a výstupu v tvare:"
   ]
  },
  {
   "cell_type": "code",
   "execution_count": null,
   "metadata": {
    "collapsed": true
   },
   "outputs": [],
   "source": [
    "model_object = Model(vstupna_vrstva, vystupna_vrstva)"
   ]
  },
  {
   "cell_type": "code",
   "execution_count": null,
   "metadata": {
    "collapsed": true
   },
   "outputs": [],
   "source": [
    "autoencoder = # TODO: define autoencoder\n",
    "encoder = # TODO: define encoder"
   ]
  },
  {
   "cell_type": "markdown",
   "metadata": {},
   "source": [
    "Definícia modelu čistého decodera je menej priamočiara. Jeho vstupom je síce výstup encodera, ale neviem priamo použiť vrstvy z autoencodera, keďže tie sú navzájom prepojené. Namiesto toho vytvoríme novú vstupnú vrstvu a následne pridáme ďalšie potrebné vrstvy (v tomto prípade iba poslednú vrstvu autoencodera)."
   ]
  },
  {
   "cell_type": "code",
   "execution_count": null,
   "metadata": {
    "collapsed": true
   },
   "outputs": [],
   "source": [
    "encoded_input = # TODO: define input to decoder\n",
    "decoder_layer = # TODO: define further layer of decoder\n",
    "decoder = # TODO: define decoder"
   ]
  },
  {
   "cell_type": "markdown",
   "metadata": {},
   "source": [
    "### 4.3. Trénovanie autoencodera\n",
    "\n",
    "Neostáva nám nič iné, len natrénovať našu sieť. Pridajte chýbajúce parametre do volaní funkcií nasledovne:\n",
    "* optimizer - napr. adadelta\n",
    "* loss - napr. binary_crossentropy\n",
    "* input - vstup autoencodera\n",
    "* output - očakávaný výstup autoencodera\n",
    "* epochs - napr. 25\n",
    "* batch_size - napr. 256\n",
    "* shuffle - nastavte na True pre náhodné poradie v trénovacej množine\n",
    "* verbose - nastavte na 2 pre jednoduchší výpis progresu"
   ]
  },
  {
   "cell_type": "code",
   "execution_count": null,
   "metadata": {
    "collapsed": true
   },
   "outputs": [],
   "source": [
    "autoencoder.compile(# TODO: insert parameters: optimizer, loss\n",
    "    )\n",
    "autoencoder.fit(# TODO: insert parameters: input, output, epochs, batch_size, shuffle\n",
    "    )"
   ]
  },
  {
   "cell_type": "markdown",
   "metadata": {},
   "source": [
    "### 4.4. Testovanie autoencodera\n",
    "\n",
    "Ak už máme autoencoder natrénovaný, môžeme vizualizovať jeho funkčnosť. Zavolajte funkciu `predict` nad testovacou množinou. Keďže chceme vizualizovať vstup, zakódovanú reprezentáciu, aj výstup autoencodera, funkciu potrebujeme zavolať aj pre encoder aj pre samotný autoencoder. Ak chcete testovať zvlášť aj decoder, upravte kód podľa potreby."
   ]
  },
  {
   "cell_type": "code",
   "execution_count": null,
   "metadata": {
    "collapsed": true
   },
   "outputs": [],
   "source": [
    "encoded_imgs = encoder.predict(x_test)\n",
    "decoded_imgs = autoencoder.predict(x_test)\n",
    "\n",
    "plot_results(x_test, encoded_imgs, decoded_imgs)"
   ]
  },
  {
   "cell_type": "markdown",
   "metadata": {},
   "source": [
    "Zobrazia sa Vám tri riadky obrázkov, kde prvý riadok je vstup, druhý je zakódovaný tvar, a posledný riadok obsahuje rekonštruované obrázky, t.j. výstup autoencodera, napr.\n",
    "\n",
    "![](figures/lab9-autoencoder-shallow.jpg)"
   ]
  },
  {
   "cell_type": "markdown",
   "metadata": {},
   "source": [
    "## 5. Deep autoencoder\n",
    "\n",
    "V ďalšom kroku rozšírime našu sieť pridávaním ďalších vrstiev (samotná topológia je na Vás, nižšie máte uvedený príklad). Odporúčame Vám použiť aktivačnú funkciu `relu` až na poslednú vrstvu, kde sa použije `sigmoid`."
   ]
  },
  {
   "cell_type": "markdown",
   "metadata": {},
   "source": [
    "Layer (type)                 Output Shape              Param #   \n",
    "_________________________________________________________________\n",
    "input_1 (InputLayer)         (None, 784)               0         \n",
    "_________________________________________________________________\n",
    "dense_1 (Dense)              (None, 128)               100480    \n",
    "_________________________________________________________________\n",
    "dense_2 (Dense)              (None, 64)                8256      \n",
    "_________________________________________________________________\n",
    "dense_3 (Dense)              (None, 32)                2080      \n",
    "_________________________________________________________________\n",
    "dense_4 (Dense)              (None, 64)                2112      \n",
    "_________________________________________________________________\n",
    "dense_5 (Dense)              (None, 128)               8320      \n",
    "_________________________________________________________________\n",
    "dense_6 (Dense)              (None, 784)               101136    \n",
    "_________________________________________________________________\n",
    "Total params: 222,384\n",
    "Trainable params: 222,384\n",
    "Non-trainable params: 0"
   ]
  },
  {
   "cell_type": "markdown",
   "metadata": {},
   "source": [
    "### 5.1. Definícia vrstiev\n",
    "\n",
    "Zadefinujte jednotlivé vrstvy hlbokej neurónovej siete podobne ako v bode 4.1."
   ]
  },
  {
   "cell_type": "code",
   "execution_count": null,
   "metadata": {
    "collapsed": true
   },
   "outputs": [],
   "source": [
    "input_img = # TODO: define input layer\n",
    "encoded_1 = # TODO: define next layer; activation relu\n",
    "encoded_2 = # TODO: define next layer; activation relu\n",
    "encoded_3 = # TODO: define next layer; activation relu\n",
    "\n",
    "decoded_1 = # TODO: define next layer; activation relu\n",
    "decoded_2 = # TODO: define next layer; activation relu\n",
    "decoded_3 = # TODO: define next layer; activation sigmoid"
   ]
  },
  {
   "cell_type": "markdown",
   "metadata": {},
   "source": [
    "### 5. 2. Definícia modelov\n",
    "\n",
    "Podobne ako v bode 4.2., zase zadefinujeme tri modely: celý autoencoder, iba encoder a iba decoder. Pri vytváraní modelu decodera dbajte na to, aby ste pridali všetky potrebné vrstvy."
   ]
  },
  {
   "cell_type": "code",
   "execution_count": null,
   "metadata": {
    "collapsed": true
   },
   "outputs": [],
   "source": [
    "autoencoder = # TODO: define autoencoder\n",
    "\n",
    "encoder = # TODO: define encoder\n",
    "\n",
    "encoded_input = # TODO: define input to decoder\n",
    "decoder_layer = # TODO: define next layer of the decoder\n",
    "decoder_layer = # TODO: define next layer of the decoder\n",
    "decoder_layer = # TODO: define next layer of the decoder\n",
    "decoder = # TODO: define decoder"
   ]
  },
  {
   "cell_type": "markdown",
   "metadata": {},
   "source": [
    "### 5. 3. Trénovanie autoencodera\n",
    "\n",
    "V ďalšom kroku natrénujeme hlboký autoenoder rovnako ako v bode 4.3."
   ]
  },
  {
   "cell_type": "code",
   "execution_count": null,
   "metadata": {
    "collapsed": true
   },
   "outputs": [],
   "source": [
    "autoencoder.compile(# TODO: insert parameters: optimizer, loss\n",
    "    )\n",
    "autoencoder.fit(# TODO: insert parameters: input, output, epochs, batch_size, shuffle\n",
    "    )"
   ]
  },
  {
   "cell_type": "markdown",
   "metadata": {},
   "source": [
    "### 5. 4. Testovanie autoencodera\n",
    "\n",
    "Vizualizácia bude mať rovnaký tvar ako v bode 4.4. V tomto bode ale pre ukážku nepoužijeme autoencoder, ale zvlášť encoder a následne decoder."
   ]
  },
  {
   "cell_type": "code",
   "execution_count": null,
   "metadata": {
    "collapsed": true
   },
   "outputs": [],
   "source": [
    "encoded_imgs = encoder.predict(x_test)\n",
    "decoded_imgs = decoder.predict(encoded_imgs)\n",
    "\n",
    "plot_results(x_test, encoded_imgs, decoded_imgs)"
   ]
  },
  {
   "cell_type": "markdown",
   "metadata": {},
   "source": [
    "![](figures/lab9-autoencoder-deep.jpg)"
   ]
  }
 ],
 "metadata": {
  "kernelspec": {
   "display_name": "Python 3",
   "language": "python",
   "name": "python3"
  },
  "language_info": {
   "codemirror_mode": {
    "name": "ipython",
    "version": 3
   },
   "file_extension": ".py",
   "mimetype": "text/x-python",
   "name": "python",
   "nbconvert_exporter": "python",
   "pygments_lexer": "ipython3",
   "version": "3.6.5"
  }
 },
 "nbformat": 4,
 "nbformat_minor": 2
}
